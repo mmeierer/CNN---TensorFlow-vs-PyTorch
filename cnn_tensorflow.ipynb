{
  "nbformat": 4,
  "nbformat_minor": 0,
  "metadata": {
    "colab": {
      "name": "cnn_tensorflow.ipynb",
      "provenance": [],
      "collapsed_sections": [],
      "machine_shape": "hm",
      "include_colab_link": true
    },
    "kernelspec": {
      "name": "python3",
      "display_name": "Python 3"
    },
    "accelerator": "GPU"
  },
  "cells": [
    {
      "cell_type": "markdown",
      "metadata": {
        "id": "view-in-github",
        "colab_type": "text"
      },
      "source": [
        "<a href=\"https://colab.research.google.com/github/mmeierer/CNN---TensorFlow-vs-PyTorch/blob/main/cnn_tensorflow.ipynb\" target=\"_parent\"><img src=\"https://colab.research.google.com/assets/colab-badge.svg\" alt=\"Open In Colab\"/></a>"
      ]
    },
    {
      "cell_type": "markdown",
      "metadata": {
        "id": "MJ31gTXJ9FAo"
      },
      "source": [
        "# Image classification using an CNN with TensorFlow"
      ]
    },
    {
      "cell_type": "markdown",
      "metadata": {
        "id": "em3qmb5J9NBY"
      },
      "source": [
        "## 1. Import & Preprocessing"
      ]
    },
    {
      "cell_type": "markdown",
      "metadata": {
        "id": "RcLVulXD9Sq0"
      },
      "source": [
        "### a) Importing modules"
      ]
    },
    {
      "cell_type": "code",
      "metadata": {
        "id": "GgwSrLIa_FW0"
      },
      "source": [
        "# Load required packages - data handling & plotting\n",
        "import pandas as pd\n",
        "import numpy as np\n",
        "import matplotlib.pyplot as plt\n",
        "\n",
        "# Load required packages - deep learning \n",
        "import tensorflow as tf\n",
        "from tensorflow import keras"
      ],
      "execution_count": 1,
      "outputs": []
    },
    {
      "cell_type": "markdown",
      "metadata": {
        "id": "xf27__wO9b1g"
      },
      "source": [
        "### b) Importing data"
      ]
    },
    {
      "cell_type": "code",
      "metadata": {
        "id": "JjftvVzf8XH8"
      },
      "source": [
        "train_data = pd.read_csv('https://github.com/mmeierer/CNN---TensorFlow-vs-PyTorch/blob/main/fashion-mnist_train.csv?raw=true')\n",
        "test_data = pd.read_csv('https://github.com/mmeierer/CNN---TensorFlow-vs-PyTorch/blob/main/fashion-mnist_test.csv?raw=true')"
      ],
      "execution_count": 2,
      "outputs": []
    },
    {
      "cell_type": "code",
      "metadata": {
        "id": "ok9nQ40gCWoH",
        "colab": {
          "base_uri": "https://localhost:8080/",
          "height": 244
        },
        "outputId": "baa96efe-2c89-4496-9e1a-1a2cd6a93666"
      },
      "source": [
        "train_data.head()"
      ],
      "execution_count": 3,
      "outputs": [
        {
          "output_type": "execute_result",
          "data": {
            "text/html": [
              "<div>\n",
              "<style scoped>\n",
              "    .dataframe tbody tr th:only-of-type {\n",
              "        vertical-align: middle;\n",
              "    }\n",
              "\n",
              "    .dataframe tbody tr th {\n",
              "        vertical-align: top;\n",
              "    }\n",
              "\n",
              "    .dataframe thead th {\n",
              "        text-align: right;\n",
              "    }\n",
              "</style>\n",
              "<table border=\"1\" class=\"dataframe\">\n",
              "  <thead>\n",
              "    <tr style=\"text-align: right;\">\n",
              "      <th></th>\n",
              "      <th>label</th>\n",
              "      <th>pixel1</th>\n",
              "      <th>pixel2</th>\n",
              "      <th>pixel3</th>\n",
              "      <th>pixel4</th>\n",
              "      <th>pixel5</th>\n",
              "      <th>pixel6</th>\n",
              "      <th>pixel7</th>\n",
              "      <th>pixel8</th>\n",
              "      <th>pixel9</th>\n",
              "      <th>pixel10</th>\n",
              "      <th>pixel11</th>\n",
              "      <th>pixel12</th>\n",
              "      <th>pixel13</th>\n",
              "      <th>pixel14</th>\n",
              "      <th>pixel15</th>\n",
              "      <th>pixel16</th>\n",
              "      <th>pixel17</th>\n",
              "      <th>pixel18</th>\n",
              "      <th>pixel19</th>\n",
              "      <th>pixel20</th>\n",
              "      <th>pixel21</th>\n",
              "      <th>pixel22</th>\n",
              "      <th>pixel23</th>\n",
              "      <th>pixel24</th>\n",
              "      <th>pixel25</th>\n",
              "      <th>pixel26</th>\n",
              "      <th>pixel27</th>\n",
              "      <th>pixel28</th>\n",
              "      <th>pixel29</th>\n",
              "      <th>pixel30</th>\n",
              "      <th>pixel31</th>\n",
              "      <th>pixel32</th>\n",
              "      <th>pixel33</th>\n",
              "      <th>pixel34</th>\n",
              "      <th>pixel35</th>\n",
              "      <th>pixel36</th>\n",
              "      <th>pixel37</th>\n",
              "      <th>pixel38</th>\n",
              "      <th>pixel39</th>\n",
              "      <th>...</th>\n",
              "      <th>pixel745</th>\n",
              "      <th>pixel746</th>\n",
              "      <th>pixel747</th>\n",
              "      <th>pixel748</th>\n",
              "      <th>pixel749</th>\n",
              "      <th>pixel750</th>\n",
              "      <th>pixel751</th>\n",
              "      <th>pixel752</th>\n",
              "      <th>pixel753</th>\n",
              "      <th>pixel754</th>\n",
              "      <th>pixel755</th>\n",
              "      <th>pixel756</th>\n",
              "      <th>pixel757</th>\n",
              "      <th>pixel758</th>\n",
              "      <th>pixel759</th>\n",
              "      <th>pixel760</th>\n",
              "      <th>pixel761</th>\n",
              "      <th>pixel762</th>\n",
              "      <th>pixel763</th>\n",
              "      <th>pixel764</th>\n",
              "      <th>pixel765</th>\n",
              "      <th>pixel766</th>\n",
              "      <th>pixel767</th>\n",
              "      <th>pixel768</th>\n",
              "      <th>pixel769</th>\n",
              "      <th>pixel770</th>\n",
              "      <th>pixel771</th>\n",
              "      <th>pixel772</th>\n",
              "      <th>pixel773</th>\n",
              "      <th>pixel774</th>\n",
              "      <th>pixel775</th>\n",
              "      <th>pixel776</th>\n",
              "      <th>pixel777</th>\n",
              "      <th>pixel778</th>\n",
              "      <th>pixel779</th>\n",
              "      <th>pixel780</th>\n",
              "      <th>pixel781</th>\n",
              "      <th>pixel782</th>\n",
              "      <th>pixel783</th>\n",
              "      <th>pixel784</th>\n",
              "    </tr>\n",
              "  </thead>\n",
              "  <tbody>\n",
              "    <tr>\n",
              "      <th>0</th>\n",
              "      <td>2</td>\n",
              "      <td>0</td>\n",
              "      <td>0</td>\n",
              "      <td>0</td>\n",
              "      <td>0</td>\n",
              "      <td>0</td>\n",
              "      <td>0</td>\n",
              "      <td>0</td>\n",
              "      <td>0</td>\n",
              "      <td>0</td>\n",
              "      <td>0</td>\n",
              "      <td>0</td>\n",
              "      <td>0</td>\n",
              "      <td>0</td>\n",
              "      <td>0</td>\n",
              "      <td>0</td>\n",
              "      <td>0</td>\n",
              "      <td>0</td>\n",
              "      <td>0</td>\n",
              "      <td>0</td>\n",
              "      <td>0</td>\n",
              "      <td>0</td>\n",
              "      <td>0</td>\n",
              "      <td>0</td>\n",
              "      <td>0</td>\n",
              "      <td>0</td>\n",
              "      <td>0</td>\n",
              "      <td>0</td>\n",
              "      <td>0</td>\n",
              "      <td>0</td>\n",
              "      <td>0</td>\n",
              "      <td>0</td>\n",
              "      <td>0</td>\n",
              "      <td>0</td>\n",
              "      <td>0</td>\n",
              "      <td>0</td>\n",
              "      <td>0</td>\n",
              "      <td>0</td>\n",
              "      <td>0</td>\n",
              "      <td>0</td>\n",
              "      <td>...</td>\n",
              "      <td>0</td>\n",
              "      <td>0</td>\n",
              "      <td>0</td>\n",
              "      <td>0</td>\n",
              "      <td>0</td>\n",
              "      <td>0</td>\n",
              "      <td>0</td>\n",
              "      <td>0</td>\n",
              "      <td>0</td>\n",
              "      <td>0</td>\n",
              "      <td>0</td>\n",
              "      <td>0</td>\n",
              "      <td>0</td>\n",
              "      <td>0</td>\n",
              "      <td>0</td>\n",
              "      <td>0</td>\n",
              "      <td>0</td>\n",
              "      <td>0</td>\n",
              "      <td>0</td>\n",
              "      <td>0</td>\n",
              "      <td>0</td>\n",
              "      <td>0</td>\n",
              "      <td>0</td>\n",
              "      <td>0</td>\n",
              "      <td>0</td>\n",
              "      <td>0</td>\n",
              "      <td>0</td>\n",
              "      <td>0</td>\n",
              "      <td>0</td>\n",
              "      <td>0</td>\n",
              "      <td>0</td>\n",
              "      <td>0</td>\n",
              "      <td>0</td>\n",
              "      <td>0</td>\n",
              "      <td>0</td>\n",
              "      <td>0</td>\n",
              "      <td>0</td>\n",
              "      <td>0</td>\n",
              "      <td>0</td>\n",
              "      <td>0</td>\n",
              "    </tr>\n",
              "    <tr>\n",
              "      <th>1</th>\n",
              "      <td>9</td>\n",
              "      <td>0</td>\n",
              "      <td>0</td>\n",
              "      <td>0</td>\n",
              "      <td>0</td>\n",
              "      <td>0</td>\n",
              "      <td>0</td>\n",
              "      <td>0</td>\n",
              "      <td>0</td>\n",
              "      <td>0</td>\n",
              "      <td>0</td>\n",
              "      <td>0</td>\n",
              "      <td>0</td>\n",
              "      <td>0</td>\n",
              "      <td>0</td>\n",
              "      <td>0</td>\n",
              "      <td>0</td>\n",
              "      <td>0</td>\n",
              "      <td>0</td>\n",
              "      <td>0</td>\n",
              "      <td>0</td>\n",
              "      <td>0</td>\n",
              "      <td>0</td>\n",
              "      <td>0</td>\n",
              "      <td>0</td>\n",
              "      <td>0</td>\n",
              "      <td>0</td>\n",
              "      <td>0</td>\n",
              "      <td>0</td>\n",
              "      <td>0</td>\n",
              "      <td>0</td>\n",
              "      <td>0</td>\n",
              "      <td>0</td>\n",
              "      <td>0</td>\n",
              "      <td>0</td>\n",
              "      <td>0</td>\n",
              "      <td>0</td>\n",
              "      <td>0</td>\n",
              "      <td>0</td>\n",
              "      <td>0</td>\n",
              "      <td>...</td>\n",
              "      <td>0</td>\n",
              "      <td>0</td>\n",
              "      <td>0</td>\n",
              "      <td>0</td>\n",
              "      <td>0</td>\n",
              "      <td>0</td>\n",
              "      <td>0</td>\n",
              "      <td>0</td>\n",
              "      <td>0</td>\n",
              "      <td>0</td>\n",
              "      <td>0</td>\n",
              "      <td>0</td>\n",
              "      <td>0</td>\n",
              "      <td>0</td>\n",
              "      <td>0</td>\n",
              "      <td>0</td>\n",
              "      <td>0</td>\n",
              "      <td>0</td>\n",
              "      <td>0</td>\n",
              "      <td>0</td>\n",
              "      <td>0</td>\n",
              "      <td>0</td>\n",
              "      <td>0</td>\n",
              "      <td>0</td>\n",
              "      <td>0</td>\n",
              "      <td>0</td>\n",
              "      <td>0</td>\n",
              "      <td>0</td>\n",
              "      <td>0</td>\n",
              "      <td>0</td>\n",
              "      <td>0</td>\n",
              "      <td>0</td>\n",
              "      <td>0</td>\n",
              "      <td>0</td>\n",
              "      <td>0</td>\n",
              "      <td>0</td>\n",
              "      <td>0</td>\n",
              "      <td>0</td>\n",
              "      <td>0</td>\n",
              "      <td>0</td>\n",
              "    </tr>\n",
              "    <tr>\n",
              "      <th>2</th>\n",
              "      <td>6</td>\n",
              "      <td>0</td>\n",
              "      <td>0</td>\n",
              "      <td>0</td>\n",
              "      <td>0</td>\n",
              "      <td>0</td>\n",
              "      <td>0</td>\n",
              "      <td>0</td>\n",
              "      <td>5</td>\n",
              "      <td>0</td>\n",
              "      <td>0</td>\n",
              "      <td>0</td>\n",
              "      <td>105</td>\n",
              "      <td>92</td>\n",
              "      <td>101</td>\n",
              "      <td>107</td>\n",
              "      <td>100</td>\n",
              "      <td>132</td>\n",
              "      <td>0</td>\n",
              "      <td>0</td>\n",
              "      <td>2</td>\n",
              "      <td>4</td>\n",
              "      <td>0</td>\n",
              "      <td>1</td>\n",
              "      <td>0</td>\n",
              "      <td>0</td>\n",
              "      <td>0</td>\n",
              "      <td>0</td>\n",
              "      <td>0</td>\n",
              "      <td>0</td>\n",
              "      <td>0</td>\n",
              "      <td>0</td>\n",
              "      <td>0</td>\n",
              "      <td>0</td>\n",
              "      <td>0</td>\n",
              "      <td>0</td>\n",
              "      <td>0</td>\n",
              "      <td>0</td>\n",
              "      <td>0</td>\n",
              "      <td>150</td>\n",
              "      <td>...</td>\n",
              "      <td>211</td>\n",
              "      <td>220</td>\n",
              "      <td>214</td>\n",
              "      <td>74</td>\n",
              "      <td>0</td>\n",
              "      <td>255</td>\n",
              "      <td>222</td>\n",
              "      <td>128</td>\n",
              "      <td>0</td>\n",
              "      <td>0</td>\n",
              "      <td>0</td>\n",
              "      <td>0</td>\n",
              "      <td>0</td>\n",
              "      <td>0</td>\n",
              "      <td>0</td>\n",
              "      <td>0</td>\n",
              "      <td>0</td>\n",
              "      <td>44</td>\n",
              "      <td>12</td>\n",
              "      <td>0</td>\n",
              "      <td>0</td>\n",
              "      <td>40</td>\n",
              "      <td>134</td>\n",
              "      <td>162</td>\n",
              "      <td>191</td>\n",
              "      <td>214</td>\n",
              "      <td>163</td>\n",
              "      <td>146</td>\n",
              "      <td>165</td>\n",
              "      <td>79</td>\n",
              "      <td>0</td>\n",
              "      <td>0</td>\n",
              "      <td>0</td>\n",
              "      <td>30</td>\n",
              "      <td>43</td>\n",
              "      <td>0</td>\n",
              "      <td>0</td>\n",
              "      <td>0</td>\n",
              "      <td>0</td>\n",
              "      <td>0</td>\n",
              "    </tr>\n",
              "    <tr>\n",
              "      <th>3</th>\n",
              "      <td>0</td>\n",
              "      <td>0</td>\n",
              "      <td>0</td>\n",
              "      <td>0</td>\n",
              "      <td>1</td>\n",
              "      <td>2</td>\n",
              "      <td>0</td>\n",
              "      <td>0</td>\n",
              "      <td>0</td>\n",
              "      <td>0</td>\n",
              "      <td>0</td>\n",
              "      <td>114</td>\n",
              "      <td>183</td>\n",
              "      <td>112</td>\n",
              "      <td>55</td>\n",
              "      <td>23</td>\n",
              "      <td>72</td>\n",
              "      <td>102</td>\n",
              "      <td>165</td>\n",
              "      <td>160</td>\n",
              "      <td>28</td>\n",
              "      <td>0</td>\n",
              "      <td>0</td>\n",
              "      <td>0</td>\n",
              "      <td>1</td>\n",
              "      <td>0</td>\n",
              "      <td>0</td>\n",
              "      <td>0</td>\n",
              "      <td>0</td>\n",
              "      <td>0</td>\n",
              "      <td>0</td>\n",
              "      <td>0</td>\n",
              "      <td>0</td>\n",
              "      <td>1</td>\n",
              "      <td>0</td>\n",
              "      <td>0</td>\n",
              "      <td>24</td>\n",
              "      <td>188</td>\n",
              "      <td>163</td>\n",
              "      <td>93</td>\n",
              "      <td>...</td>\n",
              "      <td>171</td>\n",
              "      <td>249</td>\n",
              "      <td>207</td>\n",
              "      <td>197</td>\n",
              "      <td>202</td>\n",
              "      <td>45</td>\n",
              "      <td>0</td>\n",
              "      <td>3</td>\n",
              "      <td>0</td>\n",
              "      <td>0</td>\n",
              "      <td>0</td>\n",
              "      <td>0</td>\n",
              "      <td>0</td>\n",
              "      <td>0</td>\n",
              "      <td>0</td>\n",
              "      <td>0</td>\n",
              "      <td>0</td>\n",
              "      <td>0</td>\n",
              "      <td>1</td>\n",
              "      <td>0</td>\n",
              "      <td>0</td>\n",
              "      <td>0</td>\n",
              "      <td>22</td>\n",
              "      <td>21</td>\n",
              "      <td>25</td>\n",
              "      <td>69</td>\n",
              "      <td>52</td>\n",
              "      <td>45</td>\n",
              "      <td>74</td>\n",
              "      <td>39</td>\n",
              "      <td>3</td>\n",
              "      <td>0</td>\n",
              "      <td>0</td>\n",
              "      <td>0</td>\n",
              "      <td>0</td>\n",
              "      <td>1</td>\n",
              "      <td>0</td>\n",
              "      <td>0</td>\n",
              "      <td>0</td>\n",
              "      <td>0</td>\n",
              "    </tr>\n",
              "    <tr>\n",
              "      <th>4</th>\n",
              "      <td>3</td>\n",
              "      <td>0</td>\n",
              "      <td>0</td>\n",
              "      <td>0</td>\n",
              "      <td>0</td>\n",
              "      <td>0</td>\n",
              "      <td>0</td>\n",
              "      <td>0</td>\n",
              "      <td>0</td>\n",
              "      <td>0</td>\n",
              "      <td>0</td>\n",
              "      <td>0</td>\n",
              "      <td>0</td>\n",
              "      <td>46</td>\n",
              "      <td>0</td>\n",
              "      <td>21</td>\n",
              "      <td>68</td>\n",
              "      <td>0</td>\n",
              "      <td>0</td>\n",
              "      <td>0</td>\n",
              "      <td>0</td>\n",
              "      <td>0</td>\n",
              "      <td>0</td>\n",
              "      <td>0</td>\n",
              "      <td>0</td>\n",
              "      <td>0</td>\n",
              "      <td>0</td>\n",
              "      <td>0</td>\n",
              "      <td>0</td>\n",
              "      <td>0</td>\n",
              "      <td>0</td>\n",
              "      <td>0</td>\n",
              "      <td>0</td>\n",
              "      <td>0</td>\n",
              "      <td>0</td>\n",
              "      <td>0</td>\n",
              "      <td>0</td>\n",
              "      <td>25</td>\n",
              "      <td>187</td>\n",
              "      <td>189</td>\n",
              "      <td>...</td>\n",
              "      <td>230</td>\n",
              "      <td>237</td>\n",
              "      <td>229</td>\n",
              "      <td>0</td>\n",
              "      <td>0</td>\n",
              "      <td>1</td>\n",
              "      <td>0</td>\n",
              "      <td>0</td>\n",
              "      <td>0</td>\n",
              "      <td>0</td>\n",
              "      <td>0</td>\n",
              "      <td>0</td>\n",
              "      <td>0</td>\n",
              "      <td>0</td>\n",
              "      <td>0</td>\n",
              "      <td>0</td>\n",
              "      <td>0</td>\n",
              "      <td>0</td>\n",
              "      <td>0</td>\n",
              "      <td>0</td>\n",
              "      <td>0</td>\n",
              "      <td>68</td>\n",
              "      <td>116</td>\n",
              "      <td>112</td>\n",
              "      <td>136</td>\n",
              "      <td>147</td>\n",
              "      <td>144</td>\n",
              "      <td>121</td>\n",
              "      <td>102</td>\n",
              "      <td>63</td>\n",
              "      <td>0</td>\n",
              "      <td>0</td>\n",
              "      <td>0</td>\n",
              "      <td>0</td>\n",
              "      <td>0</td>\n",
              "      <td>0</td>\n",
              "      <td>0</td>\n",
              "      <td>0</td>\n",
              "      <td>0</td>\n",
              "      <td>0</td>\n",
              "    </tr>\n",
              "  </tbody>\n",
              "</table>\n",
              "<p>5 rows × 785 columns</p>\n",
              "</div>"
            ],
            "text/plain": [
              "   label  pixel1  pixel2  pixel3  ...  pixel781  pixel782  pixel783  pixel784\n",
              "0      2       0       0       0  ...         0         0         0         0\n",
              "1      9       0       0       0  ...         0         0         0         0\n",
              "2      6       0       0       0  ...         0         0         0         0\n",
              "3      0       0       0       0  ...         0         0         0         0\n",
              "4      3       0       0       0  ...         0         0         0         0\n",
              "\n",
              "[5 rows x 785 columns]"
            ]
          },
          "metadata": {
            "tags": []
          },
          "execution_count": 3
        }
      ]
    },
    {
      "cell_type": "code",
      "metadata": {
        "id": "zvVxnfFGVcJv"
      },
      "source": [
        "train_images = train_data.iloc[:,1:]\n",
        "train_labels = train_data.iloc[:,0]\n",
        "test_images = test_data.iloc[:,1:]\n",
        "test_labels = test_data.iloc[:,0]"
      ],
      "execution_count": 4,
      "outputs": []
    },
    {
      "cell_type": "code",
      "metadata": {
        "id": "saVMu35J9-zh",
        "colab": {
          "base_uri": "https://localhost:8080/",
          "height": 265
        },
        "outputId": "ff7fdc4d-6cdd-4281-b10e-4d24ce241605"
      },
      "source": [
        "plt.figure()\n",
        "plt.imshow(train_images.values[0].reshape(28,28), cmap='gray')\n",
        "plt.colorbar()\n",
        "plt.grid(False)\n",
        "plt.show()"
      ],
      "execution_count": 6,
      "outputs": [
        {
          "output_type": "display_data",
          "data": {
            "image/png": "[encoded data removed]",
            "text/plain": [
              "<Figure size 432x288 with 2 Axes>"
            ]
          },
          "metadata": {
            "tags": [],
            "needs_background": "light"
          }
        }
      ]
    },
    {
      "cell_type": "markdown",
      "metadata": {
        "id": "NU4YV9PX9j-n"
      },
      "source": [
        "### c) Data preparation"
      ]
    },
    {
      "cell_type": "code",
      "metadata": {
        "id": "KM48DMDz_fpc",
        "colab": {
          "base_uri": "https://localhost:8080/"
        },
        "outputId": "b91ae20b-3dcb-4f93-b680-6ff7efa90d9e"
      },
      "source": [
        "np.unique(train_labels)"
      ],
      "execution_count": null,
      "outputs": [
        {
          "output_type": "execute_result",
          "data": {
            "text/plain": [
              "array([0, 1, 2, 3, 4, 5, 6, 7, 8, 9])"
            ]
          },
          "metadata": {
            "tags": []
          },
          "execution_count": 11
        }
      ]
    },
    {
      "cell_type": "code",
      "metadata": {
        "id": "0QmRU-h5J-Xe"
      },
      "source": [
        "class_names = ['T-shirt/top', 'Trouser', 'Pullover', 'Dress', 'Coat',\n",
        "               'Sandal', 'Shirt', 'Sneaker', 'Bag', 'Ankle boot']"
      ],
      "execution_count": null,
      "outputs": []
    },
    {
      "cell_type": "code",
      "metadata": {
        "id": "Vs91YU1XV0Ey"
      },
      "source": [
        "train_images = train_images / np.float32(255)\n",
        "test_images = test_images / np.float32(255)"
      ],
      "execution_count": null,
      "outputs": []
    },
    {
      "cell_type": "code",
      "metadata": {
        "id": "Apc68b4yV4UQ",
        "colab": {
          "base_uri": "https://localhost:8080/",
          "height": 244
        },
        "outputId": "5b602005-2046-475f-c848-3c70737823a2"
      },
      "source": [
        "train_images.head()"
      ],
      "execution_count": null,
      "outputs": [
        {
          "output_type": "execute_result",
          "data": {
            "text/html": [
              "<div>\n",
              "<style scoped>\n",
              "    .dataframe tbody tr th:only-of-type {\n",
              "        vertical-align: middle;\n",
              "    }\n",
              "\n",
              "    .dataframe tbody tr th {\n",
              "        vertical-align: top;\n",
              "    }\n",
              "\n",
              "    .dataframe thead th {\n",
              "        text-align: right;\n",
              "    }\n",
              "</style>\n",
              "<table border=\"1\" class=\"dataframe\">\n",
              "  <thead>\n",
              "    <tr style=\"text-align: right;\">\n",
              "      <th></th>\n",
              "      <th>pixel1</th>\n",
              "      <th>pixel2</th>\n",
              "      <th>pixel3</th>\n",
              "      <th>pixel4</th>\n",
              "      <th>pixel5</th>\n",
              "      <th>pixel6</th>\n",
              "      <th>pixel7</th>\n",
              "      <th>pixel8</th>\n",
              "      <th>pixel9</th>\n",
              "      <th>pixel10</th>\n",
              "      <th>pixel11</th>\n",
              "      <th>pixel12</th>\n",
              "      <th>pixel13</th>\n",
              "      <th>pixel14</th>\n",
              "      <th>pixel15</th>\n",
              "      <th>pixel16</th>\n",
              "      <th>pixel17</th>\n",
              "      <th>pixel18</th>\n",
              "      <th>pixel19</th>\n",
              "      <th>pixel20</th>\n",
              "      <th>pixel21</th>\n",
              "      <th>pixel22</th>\n",
              "      <th>pixel23</th>\n",
              "      <th>pixel24</th>\n",
              "      <th>pixel25</th>\n",
              "      <th>pixel26</th>\n",
              "      <th>pixel27</th>\n",
              "      <th>pixel28</th>\n",
              "      <th>pixel29</th>\n",
              "      <th>pixel30</th>\n",
              "      <th>pixel31</th>\n",
              "      <th>pixel32</th>\n",
              "      <th>pixel33</th>\n",
              "      <th>pixel34</th>\n",
              "      <th>pixel35</th>\n",
              "      <th>pixel36</th>\n",
              "      <th>pixel37</th>\n",
              "      <th>pixel38</th>\n",
              "      <th>pixel39</th>\n",
              "      <th>pixel40</th>\n",
              "      <th>...</th>\n",
              "      <th>pixel745</th>\n",
              "      <th>pixel746</th>\n",
              "      <th>pixel747</th>\n",
              "      <th>pixel748</th>\n",
              "      <th>pixel749</th>\n",
              "      <th>pixel750</th>\n",
              "      <th>pixel751</th>\n",
              "      <th>pixel752</th>\n",
              "      <th>pixel753</th>\n",
              "      <th>pixel754</th>\n",
              "      <th>pixel755</th>\n",
              "      <th>pixel756</th>\n",
              "      <th>pixel757</th>\n",
              "      <th>pixel758</th>\n",
              "      <th>pixel759</th>\n",
              "      <th>pixel760</th>\n",
              "      <th>pixel761</th>\n",
              "      <th>pixel762</th>\n",
              "      <th>pixel763</th>\n",
              "      <th>pixel764</th>\n",
              "      <th>pixel765</th>\n",
              "      <th>pixel766</th>\n",
              "      <th>pixel767</th>\n",
              "      <th>pixel768</th>\n",
              "      <th>pixel769</th>\n",
              "      <th>pixel770</th>\n",
              "      <th>pixel771</th>\n",
              "      <th>pixel772</th>\n",
              "      <th>pixel773</th>\n",
              "      <th>pixel774</th>\n",
              "      <th>pixel775</th>\n",
              "      <th>pixel776</th>\n",
              "      <th>pixel777</th>\n",
              "      <th>pixel778</th>\n",
              "      <th>pixel779</th>\n",
              "      <th>pixel780</th>\n",
              "      <th>pixel781</th>\n",
              "      <th>pixel782</th>\n",
              "      <th>pixel783</th>\n",
              "      <th>pixel784</th>\n",
              "    </tr>\n",
              "  </thead>\n",
              "  <tbody>\n",
              "    <tr>\n",
              "      <th>0</th>\n",
              "      <td>0.0</td>\n",
              "      <td>0.0</td>\n",
              "      <td>0.0</td>\n",
              "      <td>0.000000</td>\n",
              "      <td>0.000000</td>\n",
              "      <td>0.0</td>\n",
              "      <td>0.0</td>\n",
              "      <td>0.000000</td>\n",
              "      <td>0.0</td>\n",
              "      <td>0.0</td>\n",
              "      <td>0.000000</td>\n",
              "      <td>0.000000</td>\n",
              "      <td>0.000000</td>\n",
              "      <td>0.000000</td>\n",
              "      <td>0.000000</td>\n",
              "      <td>0.000000</td>\n",
              "      <td>0.000000</td>\n",
              "      <td>0.000000</td>\n",
              "      <td>0.000000</td>\n",
              "      <td>0.000000</td>\n",
              "      <td>0.000000</td>\n",
              "      <td>0.0</td>\n",
              "      <td>0.000000</td>\n",
              "      <td>0.000000</td>\n",
              "      <td>0.0</td>\n",
              "      <td>0.0</td>\n",
              "      <td>0.0</td>\n",
              "      <td>0.0</td>\n",
              "      <td>0.0</td>\n",
              "      <td>0.0</td>\n",
              "      <td>0.0</td>\n",
              "      <td>0.0</td>\n",
              "      <td>0.000000</td>\n",
              "      <td>0.0</td>\n",
              "      <td>0.0</td>\n",
              "      <td>0.000000</td>\n",
              "      <td>0.000000</td>\n",
              "      <td>0.000000</td>\n",
              "      <td>0.000000</td>\n",
              "      <td>0.000000</td>\n",
              "      <td>...</td>\n",
              "      <td>0.000000</td>\n",
              "      <td>0.000000</td>\n",
              "      <td>0.000000</td>\n",
              "      <td>0.000000</td>\n",
              "      <td>0.000000</td>\n",
              "      <td>0.000000</td>\n",
              "      <td>0.000000</td>\n",
              "      <td>0.000000</td>\n",
              "      <td>0.0</td>\n",
              "      <td>0.0</td>\n",
              "      <td>0.0</td>\n",
              "      <td>0.0</td>\n",
              "      <td>0.0</td>\n",
              "      <td>0.0</td>\n",
              "      <td>0.0</td>\n",
              "      <td>0.0</td>\n",
              "      <td>0.0</td>\n",
              "      <td>0.000000</td>\n",
              "      <td>0.000000</td>\n",
              "      <td>0.0</td>\n",
              "      <td>0.0</td>\n",
              "      <td>0.000000</td>\n",
              "      <td>0.000000</td>\n",
              "      <td>0.000000</td>\n",
              "      <td>0.000000</td>\n",
              "      <td>0.000000</td>\n",
              "      <td>0.000000</td>\n",
              "      <td>0.000000</td>\n",
              "      <td>0.000000</td>\n",
              "      <td>0.000000</td>\n",
              "      <td>0.000000</td>\n",
              "      <td>0.0</td>\n",
              "      <td>0.0</td>\n",
              "      <td>0.000000</td>\n",
              "      <td>0.000000</td>\n",
              "      <td>0.000000</td>\n",
              "      <td>0.0</td>\n",
              "      <td>0.0</td>\n",
              "      <td>0.0</td>\n",
              "      <td>0.0</td>\n",
              "    </tr>\n",
              "    <tr>\n",
              "      <th>1</th>\n",
              "      <td>0.0</td>\n",
              "      <td>0.0</td>\n",
              "      <td>0.0</td>\n",
              "      <td>0.000000</td>\n",
              "      <td>0.000000</td>\n",
              "      <td>0.0</td>\n",
              "      <td>0.0</td>\n",
              "      <td>0.000000</td>\n",
              "      <td>0.0</td>\n",
              "      <td>0.0</td>\n",
              "      <td>0.000000</td>\n",
              "      <td>0.000000</td>\n",
              "      <td>0.000000</td>\n",
              "      <td>0.000000</td>\n",
              "      <td>0.000000</td>\n",
              "      <td>0.000000</td>\n",
              "      <td>0.000000</td>\n",
              "      <td>0.000000</td>\n",
              "      <td>0.000000</td>\n",
              "      <td>0.000000</td>\n",
              "      <td>0.000000</td>\n",
              "      <td>0.0</td>\n",
              "      <td>0.000000</td>\n",
              "      <td>0.000000</td>\n",
              "      <td>0.0</td>\n",
              "      <td>0.0</td>\n",
              "      <td>0.0</td>\n",
              "      <td>0.0</td>\n",
              "      <td>0.0</td>\n",
              "      <td>0.0</td>\n",
              "      <td>0.0</td>\n",
              "      <td>0.0</td>\n",
              "      <td>0.000000</td>\n",
              "      <td>0.0</td>\n",
              "      <td>0.0</td>\n",
              "      <td>0.000000</td>\n",
              "      <td>0.000000</td>\n",
              "      <td>0.000000</td>\n",
              "      <td>0.000000</td>\n",
              "      <td>0.000000</td>\n",
              "      <td>...</td>\n",
              "      <td>0.000000</td>\n",
              "      <td>0.000000</td>\n",
              "      <td>0.000000</td>\n",
              "      <td>0.000000</td>\n",
              "      <td>0.000000</td>\n",
              "      <td>0.000000</td>\n",
              "      <td>0.000000</td>\n",
              "      <td>0.000000</td>\n",
              "      <td>0.0</td>\n",
              "      <td>0.0</td>\n",
              "      <td>0.0</td>\n",
              "      <td>0.0</td>\n",
              "      <td>0.0</td>\n",
              "      <td>0.0</td>\n",
              "      <td>0.0</td>\n",
              "      <td>0.0</td>\n",
              "      <td>0.0</td>\n",
              "      <td>0.000000</td>\n",
              "      <td>0.000000</td>\n",
              "      <td>0.0</td>\n",
              "      <td>0.0</td>\n",
              "      <td>0.000000</td>\n",
              "      <td>0.000000</td>\n",
              "      <td>0.000000</td>\n",
              "      <td>0.000000</td>\n",
              "      <td>0.000000</td>\n",
              "      <td>0.000000</td>\n",
              "      <td>0.000000</td>\n",
              "      <td>0.000000</td>\n",
              "      <td>0.000000</td>\n",
              "      <td>0.000000</td>\n",
              "      <td>0.0</td>\n",
              "      <td>0.0</td>\n",
              "      <td>0.000000</td>\n",
              "      <td>0.000000</td>\n",
              "      <td>0.000000</td>\n",
              "      <td>0.0</td>\n",
              "      <td>0.0</td>\n",
              "      <td>0.0</td>\n",
              "      <td>0.0</td>\n",
              "    </tr>\n",
              "    <tr>\n",
              "      <th>2</th>\n",
              "      <td>0.0</td>\n",
              "      <td>0.0</td>\n",
              "      <td>0.0</td>\n",
              "      <td>0.000000</td>\n",
              "      <td>0.000000</td>\n",
              "      <td>0.0</td>\n",
              "      <td>0.0</td>\n",
              "      <td>0.019608</td>\n",
              "      <td>0.0</td>\n",
              "      <td>0.0</td>\n",
              "      <td>0.000000</td>\n",
              "      <td>0.411765</td>\n",
              "      <td>0.360784</td>\n",
              "      <td>0.396078</td>\n",
              "      <td>0.419608</td>\n",
              "      <td>0.392157</td>\n",
              "      <td>0.517647</td>\n",
              "      <td>0.000000</td>\n",
              "      <td>0.000000</td>\n",
              "      <td>0.007843</td>\n",
              "      <td>0.015686</td>\n",
              "      <td>0.0</td>\n",
              "      <td>0.003922</td>\n",
              "      <td>0.000000</td>\n",
              "      <td>0.0</td>\n",
              "      <td>0.0</td>\n",
              "      <td>0.0</td>\n",
              "      <td>0.0</td>\n",
              "      <td>0.0</td>\n",
              "      <td>0.0</td>\n",
              "      <td>0.0</td>\n",
              "      <td>0.0</td>\n",
              "      <td>0.000000</td>\n",
              "      <td>0.0</td>\n",
              "      <td>0.0</td>\n",
              "      <td>0.000000</td>\n",
              "      <td>0.000000</td>\n",
              "      <td>0.000000</td>\n",
              "      <td>0.588235</td>\n",
              "      <td>0.890196</td>\n",
              "      <td>...</td>\n",
              "      <td>0.827451</td>\n",
              "      <td>0.862745</td>\n",
              "      <td>0.839216</td>\n",
              "      <td>0.290196</td>\n",
              "      <td>0.000000</td>\n",
              "      <td>1.000000</td>\n",
              "      <td>0.870588</td>\n",
              "      <td>0.501961</td>\n",
              "      <td>0.0</td>\n",
              "      <td>0.0</td>\n",
              "      <td>0.0</td>\n",
              "      <td>0.0</td>\n",
              "      <td>0.0</td>\n",
              "      <td>0.0</td>\n",
              "      <td>0.0</td>\n",
              "      <td>0.0</td>\n",
              "      <td>0.0</td>\n",
              "      <td>0.172549</td>\n",
              "      <td>0.047059</td>\n",
              "      <td>0.0</td>\n",
              "      <td>0.0</td>\n",
              "      <td>0.156863</td>\n",
              "      <td>0.525490</td>\n",
              "      <td>0.635294</td>\n",
              "      <td>0.749020</td>\n",
              "      <td>0.839216</td>\n",
              "      <td>0.639216</td>\n",
              "      <td>0.572549</td>\n",
              "      <td>0.647059</td>\n",
              "      <td>0.309804</td>\n",
              "      <td>0.000000</td>\n",
              "      <td>0.0</td>\n",
              "      <td>0.0</td>\n",
              "      <td>0.117647</td>\n",
              "      <td>0.168627</td>\n",
              "      <td>0.000000</td>\n",
              "      <td>0.0</td>\n",
              "      <td>0.0</td>\n",
              "      <td>0.0</td>\n",
              "      <td>0.0</td>\n",
              "    </tr>\n",
              "    <tr>\n",
              "      <th>3</th>\n",
              "      <td>0.0</td>\n",
              "      <td>0.0</td>\n",
              "      <td>0.0</td>\n",
              "      <td>0.003922</td>\n",
              "      <td>0.007843</td>\n",
              "      <td>0.0</td>\n",
              "      <td>0.0</td>\n",
              "      <td>0.000000</td>\n",
              "      <td>0.0</td>\n",
              "      <td>0.0</td>\n",
              "      <td>0.447059</td>\n",
              "      <td>0.717647</td>\n",
              "      <td>0.439216</td>\n",
              "      <td>0.215686</td>\n",
              "      <td>0.090196</td>\n",
              "      <td>0.282353</td>\n",
              "      <td>0.400000</td>\n",
              "      <td>0.647059</td>\n",
              "      <td>0.627451</td>\n",
              "      <td>0.109804</td>\n",
              "      <td>0.000000</td>\n",
              "      <td>0.0</td>\n",
              "      <td>0.000000</td>\n",
              "      <td>0.003922</td>\n",
              "      <td>0.0</td>\n",
              "      <td>0.0</td>\n",
              "      <td>0.0</td>\n",
              "      <td>0.0</td>\n",
              "      <td>0.0</td>\n",
              "      <td>0.0</td>\n",
              "      <td>0.0</td>\n",
              "      <td>0.0</td>\n",
              "      <td>0.003922</td>\n",
              "      <td>0.0</td>\n",
              "      <td>0.0</td>\n",
              "      <td>0.094118</td>\n",
              "      <td>0.737255</td>\n",
              "      <td>0.639216</td>\n",
              "      <td>0.364706</td>\n",
              "      <td>0.533333</td>\n",
              "      <td>...</td>\n",
              "      <td>0.670588</td>\n",
              "      <td>0.976471</td>\n",
              "      <td>0.811765</td>\n",
              "      <td>0.772549</td>\n",
              "      <td>0.792157</td>\n",
              "      <td>0.176471</td>\n",
              "      <td>0.000000</td>\n",
              "      <td>0.011765</td>\n",
              "      <td>0.0</td>\n",
              "      <td>0.0</td>\n",
              "      <td>0.0</td>\n",
              "      <td>0.0</td>\n",
              "      <td>0.0</td>\n",
              "      <td>0.0</td>\n",
              "      <td>0.0</td>\n",
              "      <td>0.0</td>\n",
              "      <td>0.0</td>\n",
              "      <td>0.000000</td>\n",
              "      <td>0.003922</td>\n",
              "      <td>0.0</td>\n",
              "      <td>0.0</td>\n",
              "      <td>0.000000</td>\n",
              "      <td>0.086275</td>\n",
              "      <td>0.082353</td>\n",
              "      <td>0.098039</td>\n",
              "      <td>0.270588</td>\n",
              "      <td>0.203922</td>\n",
              "      <td>0.176471</td>\n",
              "      <td>0.290196</td>\n",
              "      <td>0.152941</td>\n",
              "      <td>0.011765</td>\n",
              "      <td>0.0</td>\n",
              "      <td>0.0</td>\n",
              "      <td>0.000000</td>\n",
              "      <td>0.000000</td>\n",
              "      <td>0.003922</td>\n",
              "      <td>0.0</td>\n",
              "      <td>0.0</td>\n",
              "      <td>0.0</td>\n",
              "      <td>0.0</td>\n",
              "    </tr>\n",
              "    <tr>\n",
              "      <th>4</th>\n",
              "      <td>0.0</td>\n",
              "      <td>0.0</td>\n",
              "      <td>0.0</td>\n",
              "      <td>0.000000</td>\n",
              "      <td>0.000000</td>\n",
              "      <td>0.0</td>\n",
              "      <td>0.0</td>\n",
              "      <td>0.000000</td>\n",
              "      <td>0.0</td>\n",
              "      <td>0.0</td>\n",
              "      <td>0.000000</td>\n",
              "      <td>0.000000</td>\n",
              "      <td>0.180392</td>\n",
              "      <td>0.000000</td>\n",
              "      <td>0.082353</td>\n",
              "      <td>0.266667</td>\n",
              "      <td>0.000000</td>\n",
              "      <td>0.000000</td>\n",
              "      <td>0.000000</td>\n",
              "      <td>0.000000</td>\n",
              "      <td>0.000000</td>\n",
              "      <td>0.0</td>\n",
              "      <td>0.000000</td>\n",
              "      <td>0.000000</td>\n",
              "      <td>0.0</td>\n",
              "      <td>0.0</td>\n",
              "      <td>0.0</td>\n",
              "      <td>0.0</td>\n",
              "      <td>0.0</td>\n",
              "      <td>0.0</td>\n",
              "      <td>0.0</td>\n",
              "      <td>0.0</td>\n",
              "      <td>0.000000</td>\n",
              "      <td>0.0</td>\n",
              "      <td>0.0</td>\n",
              "      <td>0.000000</td>\n",
              "      <td>0.098039</td>\n",
              "      <td>0.733333</td>\n",
              "      <td>0.741176</td>\n",
              "      <td>0.000000</td>\n",
              "      <td>...</td>\n",
              "      <td>0.901961</td>\n",
              "      <td>0.929412</td>\n",
              "      <td>0.898039</td>\n",
              "      <td>0.000000</td>\n",
              "      <td>0.000000</td>\n",
              "      <td>0.003922</td>\n",
              "      <td>0.000000</td>\n",
              "      <td>0.000000</td>\n",
              "      <td>0.0</td>\n",
              "      <td>0.0</td>\n",
              "      <td>0.0</td>\n",
              "      <td>0.0</td>\n",
              "      <td>0.0</td>\n",
              "      <td>0.0</td>\n",
              "      <td>0.0</td>\n",
              "      <td>0.0</td>\n",
              "      <td>0.0</td>\n",
              "      <td>0.000000</td>\n",
              "      <td>0.000000</td>\n",
              "      <td>0.0</td>\n",
              "      <td>0.0</td>\n",
              "      <td>0.266667</td>\n",
              "      <td>0.454902</td>\n",
              "      <td>0.439216</td>\n",
              "      <td>0.533333</td>\n",
              "      <td>0.576471</td>\n",
              "      <td>0.564706</td>\n",
              "      <td>0.474510</td>\n",
              "      <td>0.400000</td>\n",
              "      <td>0.247059</td>\n",
              "      <td>0.000000</td>\n",
              "      <td>0.0</td>\n",
              "      <td>0.0</td>\n",
              "      <td>0.000000</td>\n",
              "      <td>0.000000</td>\n",
              "      <td>0.000000</td>\n",
              "      <td>0.0</td>\n",
              "      <td>0.0</td>\n",
              "      <td>0.0</td>\n",
              "      <td>0.0</td>\n",
              "    </tr>\n",
              "  </tbody>\n",
              "</table>\n",
              "<p>5 rows × 784 columns</p>\n",
              "</div>"
            ],
            "text/plain": [
              "   pixel1  pixel2  pixel3    pixel4  ...  pixel781  pixel782  pixel783  pixel784\n",
              "0     0.0     0.0     0.0  0.000000  ...       0.0       0.0       0.0       0.0\n",
              "1     0.0     0.0     0.0  0.000000  ...       0.0       0.0       0.0       0.0\n",
              "2     0.0     0.0     0.0  0.000000  ...       0.0       0.0       0.0       0.0\n",
              "3     0.0     0.0     0.0  0.003922  ...       0.0       0.0       0.0       0.0\n",
              "4     0.0     0.0     0.0  0.000000  ...       0.0       0.0       0.0       0.0\n",
              "\n",
              "[5 rows x 784 columns]"
            ]
          },
          "metadata": {
            "tags": []
          },
          "execution_count": 14
        }
      ]
    },
    {
      "cell_type": "markdown",
      "metadata": {
        "id": "cpyhiurU-NCF"
      },
      "source": [
        "## 2. Model specific data preparation"
      ]
    },
    {
      "cell_type": "markdown",
      "metadata": {
        "id": "Y4EsssDG-Thm"
      },
      "source": [
        "### a) Load the data"
      ]
    },
    {
      "cell_type": "code",
      "metadata": {
        "id": "9-iAvHGtwFuJ"
      },
      "source": [
        "x_train_tf = tf.convert_to_tensor(train_images.values.reshape((-1, 28, 28, 1)))\n",
        "y_train_tf = tf.convert_to_tensor(train_labels.values)\n",
        "x_test_tf = tf.convert_to_tensor(test_images.values.reshape((-1, 28, 28, 1)))\n",
        "y_test_tf = tf.convert_to_tensor(test_labels.values)"
      ],
      "execution_count": null,
      "outputs": []
    },
    {
      "cell_type": "markdown",
      "metadata": {
        "id": "F8owQyL7-dqH"
      },
      "source": [
        "### b) Tensor view of the data"
      ]
    },
    {
      "cell_type": "code",
      "metadata": {
        "id": "HylaxcVguc2Y",
        "colab": {
          "base_uri": "https://localhost:8080/"
        },
        "outputId": "27d8062c-f77e-42f3-d889-f40381d48c0e"
      },
      "source": [
        "x_train_tf.shape"
      ],
      "execution_count": null,
      "outputs": [
        {
          "output_type": "execute_result",
          "data": {
            "text/plain": [
              "TensorShape([60000, 28, 28, 1])"
            ]
          },
          "metadata": {
            "tags": []
          },
          "execution_count": 16
        }
      ]
    },
    {
      "cell_type": "code",
      "metadata": {
        "id": "oW4r1M7fweWo",
        "colab": {
          "base_uri": "https://localhost:8080/"
        },
        "outputId": "4d7a16a3-b9d4-4962-bd78-85e8c542b019"
      },
      "source": [
        "x_train_tf[0][5]"
      ],
      "execution_count": null,
      "outputs": [
        {
          "output_type": "execute_result",
          "data": {
            "text/plain": [
              "<tf.Tensor: shape=(28, 1), dtype=float32, numpy=\n",
              "array([[0.        ],\n",
              "       [0.        ],\n",
              "       [0.        ],\n",
              "       [0.        ],\n",
              "       [0.        ],\n",
              "       [0.18431373],\n",
              "       [0.9882353 ],\n",
              "       [0.91764706],\n",
              "       [0.93333334],\n",
              "       [0.8784314 ],\n",
              "       [0.84313726],\n",
              "       [0.84313726],\n",
              "       [0.8980392 ],\n",
              "       [0.42352942],\n",
              "       [0.7058824 ],\n",
              "       [0.8117647 ],\n",
              "       [0.8392157 ],\n",
              "       [0.8784314 ],\n",
              "       [0.90588236],\n",
              "       [0.9764706 ],\n",
              "       [0.99607843],\n",
              "       [0.1764706 ],\n",
              "       [0.        ],\n",
              "       [0.        ],\n",
              "       [0.        ],\n",
              "       [0.        ],\n",
              "       [0.        ],\n",
              "       [0.        ]], dtype=float32)>"
            ]
          },
          "metadata": {
            "tags": []
          },
          "execution_count": 17
        }
      ]
    },
    {
      "cell_type": "code",
      "metadata": {
        "id": "WIDIonixweJt",
        "colab": {
          "base_uri": "https://localhost:8080/"
        },
        "outputId": "1e76f8c1-2680-4969-adc4-8025c4f75b02"
      },
      "source": [
        "y_train_tf[0]"
      ],
      "execution_count": null,
      "outputs": [
        {
          "output_type": "execute_result",
          "data": {
            "text/plain": [
              "<tf.Tensor: shape=(), dtype=int64, numpy=2>"
            ]
          },
          "metadata": {
            "tags": []
          },
          "execution_count": 20
        }
      ]
    },
    {
      "cell_type": "markdown",
      "metadata": {
        "id": "m9YOzlYG-ck5"
      },
      "source": [
        "## 3. Model definition"
      ]
    },
    {
      "cell_type": "markdown",
      "metadata": {
        "id": "ytn83jHz-nP8"
      },
      "source": [
        "### a) Sequentially add layers"
      ]
    },
    {
      "cell_type": "code",
      "metadata": {
        "id": "3_sfQE_NwnxE"
      },
      "source": [
        "initializer_nn = tf.random_uniform_initializer(\n",
        "    minval=-1, maxval=1, seed=123)"
      ],
      "execution_count": null,
      "outputs": []
    },
    {
      "cell_type": "code",
      "metadata": {
        "id": "cDGgvHtSX28_"
      },
      "source": [
        "model_tf = keras.Sequential([\n",
        "    keras.layers.Conv2D(input_shape=(28,28,1), filters=6, kernel_size=5, strides=1, padding=\"same\", activation='sigmoid'),\n",
        "    keras.layers.AveragePooling2D(pool_size=2, strides=2),\n",
        "    keras.layers.Conv2D(16, kernel_size=5, activation='sigmoid'),\n",
        "    keras.layers.AveragePooling2D(pool_size=2, strides=2),\n",
        "    keras.layers.Flatten(),\n",
        "    keras.layers.Dense(120, activation='sigmoid', kernel_initializer=initializer_nn),\n",
        "    keras.layers.Dense(84, activation='sigmoid', kernel_initializer=initializer_nn),\n",
        "    keras.layers.Dense(10, activation='softmax', kernel_initializer=initializer_nn)\n",
        "])"
      ],
      "execution_count": null,
      "outputs": []
    },
    {
      "cell_type": "markdown",
      "metadata": {
        "id": "RBSeEscN-tXC"
      },
      "source": [
        "### b) Inspect the model"
      ]
    },
    {
      "cell_type": "code",
      "metadata": {
        "id": "zgbkZD8NE6Hi",
        "colab": {
          "base_uri": "https://localhost:8080/"
        },
        "outputId": "7ce3b798-6ddb-4994-dcc3-2802e2d224de"
      },
      "source": [
        "model_tf.summary()"
      ],
      "execution_count": null,
      "outputs": [
        {
          "output_type": "stream",
          "text": [
            "Model: \"sequential\"\n",
            "_________________________________________________________________\n",
            "Layer (type)                 Output Shape              Param #   \n",
            "=================================================================\n",
            "conv2d (Conv2D)              (None, 28, 28, 6)         156       \n",
            "_________________________________________________________________\n",
            "average_pooling2d (AveragePo (None, 14, 14, 6)         0         \n",
            "_________________________________________________________________\n",
            "conv2d_1 (Conv2D)            (None, 10, 10, 16)        2416      \n",
            "_________________________________________________________________\n",
            "average_pooling2d_1 (Average (None, 5, 5, 16)          0         \n",
            "_________________________________________________________________\n",
            "flatten (Flatten)            (None, 400)               0         \n",
            "_________________________________________________________________\n",
            "dense (Dense)                (None, 120)               48120     \n",
            "_________________________________________________________________\n",
            "dense_1 (Dense)              (None, 84)                10164     \n",
            "_________________________________________________________________\n",
            "dense_2 (Dense)              (None, 10)                850       \n",
            "=================================================================\n",
            "Total params: 61,706\n",
            "Trainable params: 61,706\n",
            "Non-trainable params: 0\n",
            "_________________________________________________________________\n"
          ],
          "name": "stdout"
        }
      ]
    },
    {
      "cell_type": "markdown",
      "metadata": {
        "id": "KnHCVUvw-0XR"
      },
      "source": [
        "### c) Inspect the first convolutional layer"
      ]
    },
    {
      "cell_type": "code",
      "metadata": {
        "id": "U2waeNN7a9kc",
        "colab": {
          "base_uri": "https://localhost:8080/"
        },
        "outputId": "d7fff126-cb0e-4c17-a96b-4958832c6f3a"
      },
      "source": [
        "hidden1_tf_ante = model_tf.layers[0]\n",
        "weights_tf_ante, biases_tf_ante = hidden1_tf_ante.get_weights()\n",
        "weights_tf_ante[0]"
      ],
      "execution_count": null,
      "outputs": [
        {
          "output_type": "execute_result",
          "data": {
            "text/plain": [
              "array([[[ 0.18254445, -0.05954088,  0.09135787,  0.17621906,\n",
              "         -0.08391525,  0.0363787 ]],\n",
              "\n",
              "       [[-0.15953386,  0.1708891 , -0.10444088,  0.14536186,\n",
              "         -0.14542423,  0.03729261]],\n",
              "\n",
              "       [[ 0.06410448,  0.00603673,  0.05722235, -0.12966457,\n",
              "         -0.11016924, -0.05372387]],\n",
              "\n",
              "       [[ 0.08993144, -0.13964616, -0.16625945,  0.02563401,\n",
              "          0.11549746,  0.16546918]],\n",
              "\n",
              "       [[-0.17496224, -0.13228026,  0.04244381, -0.04104516,\n",
              "         -0.0395063 , -0.08084936]]], dtype=float32)"
            ]
          },
          "metadata": {
            "tags": []
          },
          "execution_count": 23
        }
      ]
    },
    {
      "cell_type": "code",
      "metadata": {
        "id": "8Hnpyc554392",
        "colab": {
          "base_uri": "https://localhost:8080/"
        },
        "outputId": "d23bae4d-3271-48b1-c698-fc78a79e4dc0"
      },
      "source": [
        "weights_tf_ante.shape"
      ],
      "execution_count": null,
      "outputs": [
        {
          "output_type": "execute_result",
          "data": {
            "text/plain": [
              "(5, 5, 1, 6)"
            ]
          },
          "metadata": {
            "tags": []
          },
          "execution_count": 24
        }
      ]
    },
    {
      "cell_type": "code",
      "metadata": {
        "id": "aDvKU-jdbpj-",
        "colab": {
          "base_uri": "https://localhost:8080/"
        },
        "outputId": "808acfb8-12c8-492c-9e2d-6ef37eebe3ab"
      },
      "source": [
        "biases_tf_ante"
      ],
      "execution_count": null,
      "outputs": [
        {
          "output_type": "execute_result",
          "data": {
            "text/plain": [
              "array([0., 0., 0., 0., 0., 0.], dtype=float32)"
            ]
          },
          "metadata": {
            "tags": []
          },
          "execution_count": 25
        }
      ]
    },
    {
      "cell_type": "code",
      "metadata": {
        "id": "-zAIOiEiBEcP",
        "colab": {
          "base_uri": "https://localhost:8080/"
        },
        "outputId": "c67c52bf-a6a5-443a-d38b-5d55b3551be9"
      },
      "source": [
        "biases_tf_ante.shape"
      ],
      "execution_count": null,
      "outputs": [
        {
          "output_type": "execute_result",
          "data": {
            "text/plain": [
              "(6,)"
            ]
          },
          "metadata": {
            "tags": []
          },
          "execution_count": 26
        }
      ]
    },
    {
      "cell_type": "markdown",
      "metadata": {
        "id": "Ow8SrWp5_GzL"
      },
      "source": [
        "## 4. Loss & Optimizer"
      ]
    },
    {
      "cell_type": "code",
      "metadata": {
        "id": "2XnclAKMDWwh"
      },
      "source": [
        "loss_fn_tf = tf.keras.losses.SparseCategoricalCrossentropy()\n",
        "optimizer_tf = tf.keras.optimizers.Adam()\n",
        "\n",
        "test_loss = tf.keras.metrics.Mean(name='test_loss')\n",
        "\n",
        "train_accuracy = tf.keras.metrics.SparseCategoricalAccuracy(name='train_accuracy')\n",
        "test_accuracy = tf.keras.metrics.SparseCategoricalAccuracy(name='test_accuracy')"
      ],
      "execution_count": null,
      "outputs": []
    },
    {
      "cell_type": "markdown",
      "metadata": {
        "id": "EDHau6DW_MPn"
      },
      "source": [
        "## 5. Training"
      ]
    },
    {
      "cell_type": "markdown",
      "metadata": {
        "id": "j9zWBPNR_RfS"
      },
      "source": [
        "### a) Training loop"
      ]
    },
    {
      "cell_type": "code",
      "metadata": {
        "id": "xgZ0GBXg46RT"
      },
      "source": [
        "def train_step_tf(model, optimizer, loss_fn, batch_size = 10):\n",
        "  losses = []\n",
        "  for beg_i in range(0, x_train_tf.shape[0], batch_size):\n",
        "    x_train_batch_tf = x_train_tf[beg_i:beg_i + batch_size]\n",
        "    y_train_batch_tf = y_train_tf[beg_i:beg_i + batch_size]\n",
        "\n",
        "    with tf.GradientTape() as tape:\n",
        "      y_pred_tf = model(x_train_batch_tf, training=True)\n",
        "      loss = loss_fn(y_train_batch_tf, y_pred_tf)\n",
        "\n",
        "    grads = tape.gradient(loss, model.trainable_weights)\n",
        "\n",
        "    optimizer.apply_gradients(zip(grads, model.trainable_weights))\n",
        "    \n",
        "    losses.append(loss)\n",
        "    train_accuracy.update_state(y_train_batch_tf, y_pred_tf)\n",
        "  return losses"
      ],
      "execution_count": null,
      "outputs": []
    },
    {
      "cell_type": "code",
      "metadata": {
        "id": "etJsxO8Bw4MS"
      },
      "source": [
        "def test_step_tf(model, optimizer, loss_fn, batch_size = 10):\n",
        "  for beg_i in range(0, x_train_tf.shape[0], batch_size):\n",
        "    x_test_batch_tf = x_train_tf[beg_i:beg_i + batch_size]\n",
        "    y_test_batch_tf = y_train_tf[beg_i:beg_i + batch_size]\n",
        "    y_pred_tf = model(x_test_batch_tf, training=False)\n",
        "    loss = loss_fn(y_test_batch_tf, y_pred_tf)\n",
        "    test_loss.update_state(loss)\n",
        "    test_accuracy.update_state(y_test_batch_tf, y_pred_tf)"
      ],
      "execution_count": null,
      "outputs": []
    },
    {
      "cell_type": "code",
      "metadata": {
        "id": "OEe_aBKZNn5e",
        "colab": {
          "base_uri": "https://localhost:8080/"
        },
        "outputId": "72b11e66-6774-493c-9513-709e65e1c7e2"
      },
      "source": [
        "train_loss_tf = []\n",
        "test_loss_tf = []\n",
        "\n",
        "train_acc_tf = []\n",
        "test_acc_tf = []\n",
        "\n",
        "epochs = 25\n",
        "\n",
        "for epoch in range(epochs):\n",
        "  loss = train_step_tf(model_tf, optimizer_tf, loss_fn_tf)\n",
        "  mean_loss_tf = float(tf.reduce_mean(loss))\n",
        "  train_loss_tf.append(mean_loss_tf)\n",
        "  train_acc_tf.append(train_accuracy.result()*100)\n",
        "\n",
        "  test_step_tf(model_tf, optimizer_tf, loss_fn_tf)\n",
        "\n",
        "  template = (\"Epoch {}, Loss: {}, Accuracy: {}, Test Loss: {}, Test Accuracy: {}\")\n",
        "  print(template.format(epoch+1, mean_loss_tf, train_accuracy.result()*100, test_loss.result(), test_accuracy.result()*100))\n",
        "  \n",
        "  test_loss_tf.append(test_loss.result())\n",
        "  test_acc_tf.append(test_accuracy.result()*100)\n",
        "\n",
        "  test_loss.reset_states()\n",
        "  train_accuracy.reset_states()\n",
        "  test_accuracy.reset_states()"
      ],
      "execution_count": null,
      "outputs": [
        {
          "output_type": "stream",
          "text": [
            "Epoch 1, Loss: 0.7340971827507019, Accuracy: 72.25999450683594, Test Loss: 0.4923219084739685, Test Accuracy: 81.72333526611328\n",
            "Epoch 2, Loss: 0.4531082212924957, Accuracy: 83.14666748046875, Test Loss: 0.3983592391014099, Test Accuracy: 85.32166290283203\n",
            "Epoch 3, Loss: 0.3909655213356018, Accuracy: 85.56500244140625, Test Loss: 0.35778069496154785, Test Accuracy: 86.8066635131836\n",
            "Epoch 4, Loss: 0.35568180680274963, Accuracy: 86.89500427246094, Test Loss: 0.3346464931964874, Test Accuracy: 87.66000366210938\n",
            "Epoch 5, Loss: 0.3317283093929291, Accuracy: 87.7733383178711, Test Loss: 0.3131996691226959, Test Accuracy: 88.3949966430664\n",
            "Epoch 6, Loss: 0.3131721317768097, Accuracy: 88.43167114257812, Test Loss: 0.2966650724411011, Test Accuracy: 89.04167175292969\n",
            "Epoch 7, Loss: 0.29774945974349976, Accuracy: 88.90333557128906, Test Loss: 0.2843783497810364, Test Accuracy: 89.44666290283203\n",
            "Epoch 8, Loss: 0.28449487686157227, Accuracy: 89.34500122070312, Test Loss: 0.27456122636795044, Test Accuracy: 89.75499725341797\n",
            "Epoch 9, Loss: 0.27269574999809265, Accuracy: 89.81000518798828, Test Loss: 0.2654063105583191, Test Accuracy: 90.02833557128906\n",
            "Epoch 10, Loss: 0.2620042860507965, Accuracy: 90.21166229248047, Test Loss: 0.2572975754737854, Test Accuracy: 90.3133316040039\n",
            "Epoch 11, Loss: 0.2521628737449646, Accuracy: 90.55667114257812, Test Loss: 0.25032225251197815, Test Accuracy: 90.48500061035156\n",
            "Epoch 12, Loss: 0.24284937977790833, Accuracy: 90.91166687011719, Test Loss: 0.2434876710176468, Test Accuracy: 90.72999572753906\n",
            "Epoch 13, Loss: 0.23396261036396027, Accuracy: 91.24166107177734, Test Loss: 0.23665308952331543, Test Accuracy: 90.97000122070312\n",
            "Epoch 14, Loss: 0.2255195677280426, Accuracy: 91.51667022705078, Test Loss: 0.2302173525094986, Test Accuracy: 91.24500274658203\n",
            "Epoch 15, Loss: 0.2174224853515625, Accuracy: 91.87333679199219, Test Loss: 0.22451086342334747, Test Accuracy: 91.40833282470703\n",
            "Epoch 16, Loss: 0.20954662561416626, Accuracy: 92.22833251953125, Test Loss: 0.21890750527381897, Test Accuracy: 91.63667297363281\n",
            "Epoch 17, Loss: 0.20194745063781738, Accuracy: 92.55667114257812, Test Loss: 0.21325813233852386, Test Accuracy: 91.89500427246094\n",
            "Epoch 18, Loss: 0.1946086883544922, Accuracy: 92.88333129882812, Test Loss: 0.20839735865592957, Test Accuracy: 92.08999633789062\n",
            "Epoch 19, Loss: 0.187409907579422, Accuracy: 93.10166931152344, Test Loss: 0.20510637760162354, Test Accuracy: 92.21333312988281\n",
            "Epoch 20, Loss: 0.18041682243347168, Accuracy: 93.3550033569336, Test Loss: 0.2027847021818161, Test Accuracy: 92.27832794189453\n",
            "Epoch 21, Loss: 0.17361560463905334, Accuracy: 93.6116714477539, Test Loss: 0.20014457404613495, Test Accuracy: 92.4000015258789\n",
            "Epoch 22, Loss: 0.16699694097042084, Accuracy: 93.91666412353516, Test Loss: 0.19704051315784454, Test Accuracy: 92.5816650390625\n",
            "Epoch 23, Loss: 0.1605449765920639, Accuracy: 94.2066650390625, Test Loss: 0.19530677795410156, Test Accuracy: 92.64833068847656\n",
            "Epoch 24, Loss: 0.1542939990758896, Accuracy: 94.47000122070312, Test Loss: 0.19343037903308868, Test Accuracy: 92.74166870117188\n",
            "Epoch 25, Loss: 0.14831218123435974, Accuracy: 94.71666717529297, Test Loss: 0.19068412482738495, Test Accuracy: 92.83000183105469\n"
          ],
          "name": "stdout"
        }
      ]
    },
    {
      "cell_type": "markdown",
      "metadata": {
        "id": "Ps8QHc63_qfg"
      },
      "source": [
        "### b) Training progress"
      ]
    },
    {
      "cell_type": "code",
      "metadata": {
        "id": "Vnr-LxZBnc26",
        "colab": {
          "base_uri": "https://localhost:8080/",
          "height": 596
        },
        "outputId": "6352fa44-c275-460b-c08c-5bb42e2b260a"
      },
      "source": [
        "plt.figure(figsize=(16,10))\n",
        "plt.plot(train_acc_tf)\n",
        "plt.plot(test_acc_tf)\n",
        "plt.title('model accuracy')\n",
        "plt.ylabel('accuracy')\n",
        "plt.xlabel('epoch')\n",
        "plt.legend(['train', 'test'], loc='upper left')\n",
        "plt.show()"
      ],
      "execution_count": null,
      "outputs": [
        {
          "output_type": "display_data",
          "data": {
            "image/png": "[encoded data removed]",
            "text/plain": [
              "<Figure size 1152x720 with 1 Axes>"
            ]
          },
          "metadata": {
            "tags": [],
            "needs_background": "light"
          }
        }
      ]
    },
    {
      "cell_type": "code",
      "metadata": {
        "id": "OT_mQn9g7jjU",
        "colab": {
          "base_uri": "https://localhost:8080/",
          "height": 594
        },
        "outputId": "1b7c8c6d-6f18-41bc-f32c-8bc88381c420"
      },
      "source": [
        "plt.figure(figsize=(16,10))\n",
        "plt.plot(train_loss_tf)\n",
        "plt.plot(test_loss_tf)\n",
        "plt.title('model loss')\n",
        "plt.ylabel('loss')\n",
        "plt.xlabel('epoch')\n",
        "plt.legend(['train', 'test'], loc='upper right')\n",
        "plt.show()"
      ],
      "execution_count": null,
      "outputs": [
        {
          "output_type": "display_data",
          "data": {
            "image/png": "[encoded data removed]",
            "text/plain": [
              "<Figure size 1152x720 with 1 Axes>"
            ]
          },
          "metadata": {
            "tags": [],
            "needs_background": "light"
          }
        }
      ]
    },
    {
      "cell_type": "markdown",
      "metadata": {
        "id": "fauTTV80_34y"
      },
      "source": [
        "### c) Inspect the first conv. layer after training"
      ]
    },
    {
      "cell_type": "code",
      "metadata": {
        "id": "JFGiGkhnGi_M",
        "colab": {
          "base_uri": "https://localhost:8080/"
        },
        "outputId": "6dd56bf3-6da7-4334-ed92-9907c54ca356"
      },
      "source": [
        "hidden1_tf_post = model_tf.layers[0]\n",
        "weights_tf_post, biases_tf_post = hidden1_tf_post.get_weights()\n",
        "weights_tf_post[0]"
      ],
      "execution_count": null,
      "outputs": [
        {
          "output_type": "execute_result",
          "data": {
            "text/plain": [
              "array([[[ 0.0341067 , -1.1854132 , -0.13551433,  0.8735569 ,\n",
              "          0.8369346 , -0.6356491 ]],\n",
              "\n",
              "       [[ 0.27185902, -0.13226739, -1.3012456 ,  0.4799686 ,\n",
              "         -0.35009673,  0.20185892]],\n",
              "\n",
              "       [[-0.23708673,  0.61184675,  0.03214671,  2.2189116 ,\n",
              "         -0.14748812,  1.0692277 ]],\n",
              "\n",
              "       [[-1.595271  ,  0.7355629 ,  1.1190178 ,  1.9788834 ,\n",
              "          1.3758004 ,  1.792755  ]],\n",
              "\n",
              "       [[-1.8465139 , -0.20625566,  1.0529166 ,  0.47188404,\n",
              "          0.8085456 ,  0.3133761 ]]], dtype=float32)"
            ]
          },
          "metadata": {
            "tags": []
          },
          "execution_count": 35
        }
      ]
    },
    {
      "cell_type": "code",
      "metadata": {
        "id": "CQzHFz85G40Q",
        "colab": {
          "base_uri": "https://localhost:8080/"
        },
        "outputId": "de3800c0-05bb-4b20-9468-8c1140262530"
      },
      "source": [
        "biases_tf_post"
      ],
      "execution_count": null,
      "outputs": [
        {
          "output_type": "execute_result",
          "data": {
            "text/plain": [
              "array([-0.8672945 , -1.1819035 , -0.03079152,  0.752409  ,  0.19146498,\n",
              "       -1.7895942 ], dtype=float32)"
            ]
          },
          "metadata": {
            "tags": []
          },
          "execution_count": 36
        }
      ]
    },
    {
      "cell_type": "markdown",
      "metadata": {
        "id": "7zxy7PuBABMp"
      },
      "source": [
        "## 6. Evaluation"
      ]
    },
    {
      "cell_type": "code",
      "metadata": {
        "id": "lUg3t4FpswJa",
        "colab": {
          "base_uri": "https://localhost:8080/"
        },
        "outputId": "30577711-1e4c-4715-842d-e211d629494a"
      },
      "source": [
        "outputs = np.argmax(model_tf(x_test_tf),1)\n",
        "correct = np.sum(outputs == np.array(y_test_tf))\n",
        "print('Test Accuracy of the model on the 10000 test images: %.4f %%' % ((correct / len(x_test_tf))*100))"
      ],
      "execution_count": null,
      "outputs": [
        {
          "output_type": "stream",
          "text": [
            "Test Accuracy of the model on the 10000 test images: 89.2600 %\n"
          ],
          "name": "stdout"
        }
      ]
    }
  ]
}