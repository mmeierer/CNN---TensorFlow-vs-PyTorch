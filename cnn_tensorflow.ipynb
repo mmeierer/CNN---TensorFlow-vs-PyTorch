{
  "nbformat": 4,
  "nbformat_minor": 0,
  "metadata": {
    "colab": {
      "name": "cnn_tensorflow.ipynb",
      "provenance": [],
      "collapsed_sections": [],
      "machine_shape": "hm"
    },
    "kernelspec": {
      "name": "python3",
      "display_name": "Python 3"
    },
    "accelerator": "GPU"
  },
  "cells": [
    {
      "cell_type": "markdown",
      "metadata": {
        "id": "MJ31gTXJ9FAo",
        "colab_type": "text"
      },
      "source": [
        "# Image classification using an CNN with TensorFlow"
      ]
    },
    {
      "cell_type": "markdown",
      "metadata": {
        "id": "em3qmb5J9NBY",
        "colab_type": "text"
      },
      "source": [
        "## 1. Import & Preprocessing"
      ]
    },
    {
      "cell_type": "markdown",
      "metadata": {
        "id": "RcLVulXD9Sq0",
        "colab_type": "text"
      },
      "source": [
        "### a) Importing modules"
      ]
    },
    {
      "cell_type": "code",
      "metadata": {
        "id": "GgwSrLIa_FW0",
        "colab_type": "code",
        "colab": {}
      },
      "source": [
        "import pandas as pd\n",
        "import numpy as np\n",
        "import matplotlib.pyplot as plt\n",
        "\n",
        "import tensorflow as tf\n",
        "from tensorflow import keras"
      ],
      "execution_count": null,
      "outputs": []
    },
    {
      "cell_type": "markdown",
      "metadata": {
        "id": "xf27__wO9b1g",
        "colab_type": "text"
      },
      "source": [
        "### b) Importing data"
      ]
    },
    {
      "cell_type": "code",
      "metadata": {
        "id": "U2N6tCAU-0kf",
        "colab_type": "code",
        "colab": {
          "base_uri": "https://localhost:8080/",
          "height": 124
        },
        "outputId": "93ac6899-027e-40b0-a322-74aa0426bc0b"
      },
      "source": [
        "from google.colab import drive \n",
        "drive.mount('/content/gdrive')"
      ],
      "execution_count": null,
      "outputs": [
        {
          "output_type": "stream",
          "text": [
            "Go to this URL in a browser: https://accounts.google.com/o/oauth2/auth?client_id=947318989803-6bn6qk8qdgf4n4g3pfee6491hc0brc4i.apps.googleusercontent.com&redirect_uri=urn%3aietf%3awg%3aoauth%3a2.0%3aoob&scope=email%20https%3a%2f%2fwww.googleapis.com%2fauth%2fdocs.test%20https%3a%2f%2fwww.googleapis.com%2fauth%2fdrive%20https%3a%2f%2fwww.googleapis.com%2fauth%2fdrive.photos.readonly%20https%3a%2f%2fwww.googleapis.com%2fauth%2fpeopleapi.readonly&response_type=code\n",
            "\n",
            "Enter your authorization code:\n",
            "··········\n",
            "Mounted at /content/gdrive\n"
          ],
          "name": "stdout"
        }
      ]
    },
    {
      "cell_type": "code",
      "metadata": {
        "id": "JjftvVzf8XH8",
        "colab_type": "code",
        "colab": {}
      },
      "source": [
        "train_data = pd.read_csv('/content/gdrive/My Drive/Annotated Data/Fashion_MNIST/fashion-mnist_train.csv')\n",
        "test_data = pd.read_csv('/content/gdrive/My Drive/Annotated Data/Fashion_MNIST/fashion-mnist_test.csv')"
      ],
      "execution_count": null,
      "outputs": []
    },
    {
      "cell_type": "code",
      "metadata": {
        "id": "ok9nQ40gCWoH",
        "colab_type": "code",
        "colab": {}
      },
      "source": [
        "train_data.head()"
      ],
      "execution_count": null,
      "outputs": []
    },
    {
      "cell_type": "code",
      "metadata": {
        "id": "zvVxnfFGVcJv",
        "colab_type": "code",
        "colab": {}
      },
      "source": [
        "train_images = train_data.iloc[:,1:]\n",
        "train_labels = train_data.iloc[:,0]\n",
        "test_images = test_data.iloc[:,1:]\n",
        "test_labels = test_data.iloc[:,0]"
      ],
      "execution_count": null,
      "outputs": []
    },
    {
      "cell_type": "code",
      "metadata": {
        "id": "saVMu35J9-zh",
        "colab_type": "code",
        "colab": {
          "base_uri": "https://localhost:8080/",
          "height": 265
        },
        "outputId": "44135fdb-0b9b-4cc0-cb5a-72ced42f6f73"
      },
      "source": [
        "plt.figure()\n",
        "plt.imshow(train_images.values[0].reshape(28,28))\n",
        "plt.colorbar()\n",
        "plt.grid(False)\n",
        "plt.show()"
      ],
      "execution_count": null,
      "outputs": [
        {
          "output_type": "display_data",
          "data": {
            "image/png": "[encoded data removed]",
            "text/plain": [
              "<Figure size 432x288 with 2 Axes>"
            ]
          },
          "metadata": {
            "tags": [],
            "needs_background": "light"
          }
        }
      ]
    },
    {
      "cell_type": "markdown",
      "metadata": {
        "id": "NU4YV9PX9j-n",
        "colab_type": "text"
      },
      "source": [
        "### c) Data preparation"
      ]
    },
    {
      "cell_type": "code",
      "metadata": {
        "id": "KM48DMDz_fpc",
        "colab_type": "code",
        "colab": {
          "base_uri": "https://localhost:8080/",
          "height": 34
        },
        "outputId": "b8613e02-4f88-4864-edd0-928a940dd6fa"
      },
      "source": [
        "np.unique(train_labels)"
      ],
      "execution_count": null,
      "outputs": [
        {
          "output_type": "execute_result",
          "data": {
            "text/plain": [
              "array([0, 1, 2, 3, 4, 5, 6, 7, 8, 9])"
            ]
          },
          "metadata": {
            "tags": []
          },
          "execution_count": 6
        }
      ]
    },
    {
      "cell_type": "code",
      "metadata": {
        "id": "0QmRU-h5J-Xe",
        "colab_type": "code",
        "colab": {}
      },
      "source": [
        "class_names = ['T-shirt/top', 'Trouser', 'Pullover', 'Dress', 'Coat',\n",
        "               'Sandal', 'Shirt', 'Sneaker', 'Bag', 'Ankle boot']"
      ],
      "execution_count": null,
      "outputs": []
    },
    {
      "cell_type": "code",
      "metadata": {
        "id": "Vs91YU1XV0Ey",
        "colab_type": "code",
        "colab": {}
      },
      "source": [
        "train_images = train_images / np.float32(255)\n",
        "test_images = test_images / np.float32(255)"
      ],
      "execution_count": null,
      "outputs": []
    },
    {
      "cell_type": "code",
      "metadata": {
        "id": "Apc68b4yV4UQ",
        "colab_type": "code",
        "colab": {
          "base_uri": "https://localhost:8080/",
          "height": 256
        },
        "outputId": "620121db-bf39-4219-d969-b5689c5adcbc"
      },
      "source": [
        "train_images.head()"
      ],
      "execution_count": null,
      "outputs": [
        {
          "output_type": "execute_result",
          "data": {
            "text/html": [
              "<div>\n",
              "<style scoped>\n",
              "    .dataframe tbody tr th:only-of-type {\n",
              "        vertical-align: middle;\n",
              "    }\n",
              "\n",
              "    .dataframe tbody tr th {\n",
              "        vertical-align: top;\n",
              "    }\n",
              "\n",
              "    .dataframe thead th {\n",
              "        text-align: right;\n",
              "    }\n",
              "</style>\n",
              "<table border=\"1\" class=\"dataframe\">\n",
              "  <thead>\n",
              "    <tr style=\"text-align: right;\">\n",
              "      <th></th>\n",
              "      <th>pixel1</th>\n",
              "      <th>pixel2</th>\n",
              "      <th>pixel3</th>\n",
              "      <th>pixel4</th>\n",
              "      <th>pixel5</th>\n",
              "      <th>pixel6</th>\n",
              "      <th>pixel7</th>\n",
              "      <th>pixel8</th>\n",
              "      <th>pixel9</th>\n",
              "      <th>pixel10</th>\n",
              "      <th>pixel11</th>\n",
              "      <th>pixel12</th>\n",
              "      <th>pixel13</th>\n",
              "      <th>pixel14</th>\n",
              "      <th>pixel15</th>\n",
              "      <th>pixel16</th>\n",
              "      <th>pixel17</th>\n",
              "      <th>pixel18</th>\n",
              "      <th>pixel19</th>\n",
              "      <th>pixel20</th>\n",
              "      <th>pixel21</th>\n",
              "      <th>pixel22</th>\n",
              "      <th>pixel23</th>\n",
              "      <th>pixel24</th>\n",
              "      <th>pixel25</th>\n",
              "      <th>pixel26</th>\n",
              "      <th>pixel27</th>\n",
              "      <th>pixel28</th>\n",
              "      <th>pixel29</th>\n",
              "      <th>pixel30</th>\n",
              "      <th>pixel31</th>\n",
              "      <th>pixel32</th>\n",
              "      <th>pixel33</th>\n",
              "      <th>pixel34</th>\n",
              "      <th>pixel35</th>\n",
              "      <th>pixel36</th>\n",
              "      <th>pixel37</th>\n",
              "      <th>pixel38</th>\n",
              "      <th>pixel39</th>\n",
              "      <th>pixel40</th>\n",
              "      <th>...</th>\n",
              "      <th>pixel745</th>\n",
              "      <th>pixel746</th>\n",
              "      <th>pixel747</th>\n",
              "      <th>pixel748</th>\n",
              "      <th>pixel749</th>\n",
              "      <th>pixel750</th>\n",
              "      <th>pixel751</th>\n",
              "      <th>pixel752</th>\n",
              "      <th>pixel753</th>\n",
              "      <th>pixel754</th>\n",
              "      <th>pixel755</th>\n",
              "      <th>pixel756</th>\n",
              "      <th>pixel757</th>\n",
              "      <th>pixel758</th>\n",
              "      <th>pixel759</th>\n",
              "      <th>pixel760</th>\n",
              "      <th>pixel761</th>\n",
              "      <th>pixel762</th>\n",
              "      <th>pixel763</th>\n",
              "      <th>pixel764</th>\n",
              "      <th>pixel765</th>\n",
              "      <th>pixel766</th>\n",
              "      <th>pixel767</th>\n",
              "      <th>pixel768</th>\n",
              "      <th>pixel769</th>\n",
              "      <th>pixel770</th>\n",
              "      <th>pixel771</th>\n",
              "      <th>pixel772</th>\n",
              "      <th>pixel773</th>\n",
              "      <th>pixel774</th>\n",
              "      <th>pixel775</th>\n",
              "      <th>pixel776</th>\n",
              "      <th>pixel777</th>\n",
              "      <th>pixel778</th>\n",
              "      <th>pixel779</th>\n",
              "      <th>pixel780</th>\n",
              "      <th>pixel781</th>\n",
              "      <th>pixel782</th>\n",
              "      <th>pixel783</th>\n",
              "      <th>pixel784</th>\n",
              "    </tr>\n",
              "  </thead>\n",
              "  <tbody>\n",
              "    <tr>\n",
              "      <th>0</th>\n",
              "      <td>0.0</td>\n",
              "      <td>0.0</td>\n",
              "      <td>0.0</td>\n",
              "      <td>0.000000</td>\n",
              "      <td>0.000000</td>\n",
              "      <td>0.0</td>\n",
              "      <td>0.0</td>\n",
              "      <td>0.000000</td>\n",
              "      <td>0.0</td>\n",
              "      <td>0.0</td>\n",
              "      <td>0.000000</td>\n",
              "      <td>0.000000</td>\n",
              "      <td>0.000000</td>\n",
              "      <td>0.000000</td>\n",
              "      <td>0.000000</td>\n",
              "      <td>0.000000</td>\n",
              "      <td>0.000000</td>\n",
              "      <td>0.000000</td>\n",
              "      <td>0.000000</td>\n",
              "      <td>0.000000</td>\n",
              "      <td>0.000000</td>\n",
              "      <td>0.0</td>\n",
              "      <td>0.000000</td>\n",
              "      <td>0.000000</td>\n",
              "      <td>0.0</td>\n",
              "      <td>0.0</td>\n",
              "      <td>0.0</td>\n",
              "      <td>0.0</td>\n",
              "      <td>0.0</td>\n",
              "      <td>0.0</td>\n",
              "      <td>0.0</td>\n",
              "      <td>0.0</td>\n",
              "      <td>0.000000</td>\n",
              "      <td>0.0</td>\n",
              "      <td>0.0</td>\n",
              "      <td>0.000000</td>\n",
              "      <td>0.000000</td>\n",
              "      <td>0.000000</td>\n",
              "      <td>0.000000</td>\n",
              "      <td>0.000000</td>\n",
              "      <td>...</td>\n",
              "      <td>0.000000</td>\n",
              "      <td>0.000000</td>\n",
              "      <td>0.000000</td>\n",
              "      <td>0.000000</td>\n",
              "      <td>0.000000</td>\n",
              "      <td>0.000000</td>\n",
              "      <td>0.000000</td>\n",
              "      <td>0.000000</td>\n",
              "      <td>0.0</td>\n",
              "      <td>0.0</td>\n",
              "      <td>0.0</td>\n",
              "      <td>0.0</td>\n",
              "      <td>0.0</td>\n",
              "      <td>0.0</td>\n",
              "      <td>0.0</td>\n",
              "      <td>0.0</td>\n",
              "      <td>0.0</td>\n",
              "      <td>0.000000</td>\n",
              "      <td>0.000000</td>\n",
              "      <td>0.0</td>\n",
              "      <td>0.0</td>\n",
              "      <td>0.000000</td>\n",
              "      <td>0.000000</td>\n",
              "      <td>0.000000</td>\n",
              "      <td>0.000000</td>\n",
              "      <td>0.000000</td>\n",
              "      <td>0.000000</td>\n",
              "      <td>0.000000</td>\n",
              "      <td>0.000000</td>\n",
              "      <td>0.000000</td>\n",
              "      <td>0.000000</td>\n",
              "      <td>0.0</td>\n",
              "      <td>0.0</td>\n",
              "      <td>0.000000</td>\n",
              "      <td>0.000000</td>\n",
              "      <td>0.000000</td>\n",
              "      <td>0.0</td>\n",
              "      <td>0.0</td>\n",
              "      <td>0.0</td>\n",
              "      <td>0.0</td>\n",
              "    </tr>\n",
              "    <tr>\n",
              "      <th>1</th>\n",
              "      <td>0.0</td>\n",
              "      <td>0.0</td>\n",
              "      <td>0.0</td>\n",
              "      <td>0.000000</td>\n",
              "      <td>0.000000</td>\n",
              "      <td>0.0</td>\n",
              "      <td>0.0</td>\n",
              "      <td>0.000000</td>\n",
              "      <td>0.0</td>\n",
              "      <td>0.0</td>\n",
              "      <td>0.000000</td>\n",
              "      <td>0.000000</td>\n",
              "      <td>0.000000</td>\n",
              "      <td>0.000000</td>\n",
              "      <td>0.000000</td>\n",
              "      <td>0.000000</td>\n",
              "      <td>0.000000</td>\n",
              "      <td>0.000000</td>\n",
              "      <td>0.000000</td>\n",
              "      <td>0.000000</td>\n",
              "      <td>0.000000</td>\n",
              "      <td>0.0</td>\n",
              "      <td>0.000000</td>\n",
              "      <td>0.000000</td>\n",
              "      <td>0.0</td>\n",
              "      <td>0.0</td>\n",
              "      <td>0.0</td>\n",
              "      <td>0.0</td>\n",
              "      <td>0.0</td>\n",
              "      <td>0.0</td>\n",
              "      <td>0.0</td>\n",
              "      <td>0.0</td>\n",
              "      <td>0.000000</td>\n",
              "      <td>0.0</td>\n",
              "      <td>0.0</td>\n",
              "      <td>0.000000</td>\n",
              "      <td>0.000000</td>\n",
              "      <td>0.000000</td>\n",
              "      <td>0.000000</td>\n",
              "      <td>0.000000</td>\n",
              "      <td>...</td>\n",
              "      <td>0.000000</td>\n",
              "      <td>0.000000</td>\n",
              "      <td>0.000000</td>\n",
              "      <td>0.000000</td>\n",
              "      <td>0.000000</td>\n",
              "      <td>0.000000</td>\n",
              "      <td>0.000000</td>\n",
              "      <td>0.000000</td>\n",
              "      <td>0.0</td>\n",
              "      <td>0.0</td>\n",
              "      <td>0.0</td>\n",
              "      <td>0.0</td>\n",
              "      <td>0.0</td>\n",
              "      <td>0.0</td>\n",
              "      <td>0.0</td>\n",
              "      <td>0.0</td>\n",
              "      <td>0.0</td>\n",
              "      <td>0.000000</td>\n",
              "      <td>0.000000</td>\n",
              "      <td>0.0</td>\n",
              "      <td>0.0</td>\n",
              "      <td>0.000000</td>\n",
              "      <td>0.000000</td>\n",
              "      <td>0.000000</td>\n",
              "      <td>0.000000</td>\n",
              "      <td>0.000000</td>\n",
              "      <td>0.000000</td>\n",
              "      <td>0.000000</td>\n",
              "      <td>0.000000</td>\n",
              "      <td>0.000000</td>\n",
              "      <td>0.000000</td>\n",
              "      <td>0.0</td>\n",
              "      <td>0.0</td>\n",
              "      <td>0.000000</td>\n",
              "      <td>0.000000</td>\n",
              "      <td>0.000000</td>\n",
              "      <td>0.0</td>\n",
              "      <td>0.0</td>\n",
              "      <td>0.0</td>\n",
              "      <td>0.0</td>\n",
              "    </tr>\n",
              "    <tr>\n",
              "      <th>2</th>\n",
              "      <td>0.0</td>\n",
              "      <td>0.0</td>\n",
              "      <td>0.0</td>\n",
              "      <td>0.000000</td>\n",
              "      <td>0.000000</td>\n",
              "      <td>0.0</td>\n",
              "      <td>0.0</td>\n",
              "      <td>0.019608</td>\n",
              "      <td>0.0</td>\n",
              "      <td>0.0</td>\n",
              "      <td>0.000000</td>\n",
              "      <td>0.411765</td>\n",
              "      <td>0.360784</td>\n",
              "      <td>0.396078</td>\n",
              "      <td>0.419608</td>\n",
              "      <td>0.392157</td>\n",
              "      <td>0.517647</td>\n",
              "      <td>0.000000</td>\n",
              "      <td>0.000000</td>\n",
              "      <td>0.007843</td>\n",
              "      <td>0.015686</td>\n",
              "      <td>0.0</td>\n",
              "      <td>0.003922</td>\n",
              "      <td>0.000000</td>\n",
              "      <td>0.0</td>\n",
              "      <td>0.0</td>\n",
              "      <td>0.0</td>\n",
              "      <td>0.0</td>\n",
              "      <td>0.0</td>\n",
              "      <td>0.0</td>\n",
              "      <td>0.0</td>\n",
              "      <td>0.0</td>\n",
              "      <td>0.000000</td>\n",
              "      <td>0.0</td>\n",
              "      <td>0.0</td>\n",
              "      <td>0.000000</td>\n",
              "      <td>0.000000</td>\n",
              "      <td>0.000000</td>\n",
              "      <td>0.588235</td>\n",
              "      <td>0.890196</td>\n",
              "      <td>...</td>\n",
              "      <td>0.827451</td>\n",
              "      <td>0.862745</td>\n",
              "      <td>0.839216</td>\n",
              "      <td>0.290196</td>\n",
              "      <td>0.000000</td>\n",
              "      <td>1.000000</td>\n",
              "      <td>0.870588</td>\n",
              "      <td>0.501961</td>\n",
              "      <td>0.0</td>\n",
              "      <td>0.0</td>\n",
              "      <td>0.0</td>\n",
              "      <td>0.0</td>\n",
              "      <td>0.0</td>\n",
              "      <td>0.0</td>\n",
              "      <td>0.0</td>\n",
              "      <td>0.0</td>\n",
              "      <td>0.0</td>\n",
              "      <td>0.172549</td>\n",
              "      <td>0.047059</td>\n",
              "      <td>0.0</td>\n",
              "      <td>0.0</td>\n",
              "      <td>0.156863</td>\n",
              "      <td>0.525490</td>\n",
              "      <td>0.635294</td>\n",
              "      <td>0.749020</td>\n",
              "      <td>0.839216</td>\n",
              "      <td>0.639216</td>\n",
              "      <td>0.572549</td>\n",
              "      <td>0.647059</td>\n",
              "      <td>0.309804</td>\n",
              "      <td>0.000000</td>\n",
              "      <td>0.0</td>\n",
              "      <td>0.0</td>\n",
              "      <td>0.117647</td>\n",
              "      <td>0.168627</td>\n",
              "      <td>0.000000</td>\n",
              "      <td>0.0</td>\n",
              "      <td>0.0</td>\n",
              "      <td>0.0</td>\n",
              "      <td>0.0</td>\n",
              "    </tr>\n",
              "    <tr>\n",
              "      <th>3</th>\n",
              "      <td>0.0</td>\n",
              "      <td>0.0</td>\n",
              "      <td>0.0</td>\n",
              "      <td>0.003922</td>\n",
              "      <td>0.007843</td>\n",
              "      <td>0.0</td>\n",
              "      <td>0.0</td>\n",
              "      <td>0.000000</td>\n",
              "      <td>0.0</td>\n",
              "      <td>0.0</td>\n",
              "      <td>0.447059</td>\n",
              "      <td>0.717647</td>\n",
              "      <td>0.439216</td>\n",
              "      <td>0.215686</td>\n",
              "      <td>0.090196</td>\n",
              "      <td>0.282353</td>\n",
              "      <td>0.400000</td>\n",
              "      <td>0.647059</td>\n",
              "      <td>0.627451</td>\n",
              "      <td>0.109804</td>\n",
              "      <td>0.000000</td>\n",
              "      <td>0.0</td>\n",
              "      <td>0.000000</td>\n",
              "      <td>0.003922</td>\n",
              "      <td>0.0</td>\n",
              "      <td>0.0</td>\n",
              "      <td>0.0</td>\n",
              "      <td>0.0</td>\n",
              "      <td>0.0</td>\n",
              "      <td>0.0</td>\n",
              "      <td>0.0</td>\n",
              "      <td>0.0</td>\n",
              "      <td>0.003922</td>\n",
              "      <td>0.0</td>\n",
              "      <td>0.0</td>\n",
              "      <td>0.094118</td>\n",
              "      <td>0.737255</td>\n",
              "      <td>0.639216</td>\n",
              "      <td>0.364706</td>\n",
              "      <td>0.533333</td>\n",
              "      <td>...</td>\n",
              "      <td>0.670588</td>\n",
              "      <td>0.976471</td>\n",
              "      <td>0.811765</td>\n",
              "      <td>0.772549</td>\n",
              "      <td>0.792157</td>\n",
              "      <td>0.176471</td>\n",
              "      <td>0.000000</td>\n",
              "      <td>0.011765</td>\n",
              "      <td>0.0</td>\n",
              "      <td>0.0</td>\n",
              "      <td>0.0</td>\n",
              "      <td>0.0</td>\n",
              "      <td>0.0</td>\n",
              "      <td>0.0</td>\n",
              "      <td>0.0</td>\n",
              "      <td>0.0</td>\n",
              "      <td>0.0</td>\n",
              "      <td>0.000000</td>\n",
              "      <td>0.003922</td>\n",
              "      <td>0.0</td>\n",
              "      <td>0.0</td>\n",
              "      <td>0.000000</td>\n",
              "      <td>0.086275</td>\n",
              "      <td>0.082353</td>\n",
              "      <td>0.098039</td>\n",
              "      <td>0.270588</td>\n",
              "      <td>0.203922</td>\n",
              "      <td>0.176471</td>\n",
              "      <td>0.290196</td>\n",
              "      <td>0.152941</td>\n",
              "      <td>0.011765</td>\n",
              "      <td>0.0</td>\n",
              "      <td>0.0</td>\n",
              "      <td>0.000000</td>\n",
              "      <td>0.000000</td>\n",
              "      <td>0.003922</td>\n",
              "      <td>0.0</td>\n",
              "      <td>0.0</td>\n",
              "      <td>0.0</td>\n",
              "      <td>0.0</td>\n",
              "    </tr>\n",
              "    <tr>\n",
              "      <th>4</th>\n",
              "      <td>0.0</td>\n",
              "      <td>0.0</td>\n",
              "      <td>0.0</td>\n",
              "      <td>0.000000</td>\n",
              "      <td>0.000000</td>\n",
              "      <td>0.0</td>\n",
              "      <td>0.0</td>\n",
              "      <td>0.000000</td>\n",
              "      <td>0.0</td>\n",
              "      <td>0.0</td>\n",
              "      <td>0.000000</td>\n",
              "      <td>0.000000</td>\n",
              "      <td>0.180392</td>\n",
              "      <td>0.000000</td>\n",
              "      <td>0.082353</td>\n",
              "      <td>0.266667</td>\n",
              "      <td>0.000000</td>\n",
              "      <td>0.000000</td>\n",
              "      <td>0.000000</td>\n",
              "      <td>0.000000</td>\n",
              "      <td>0.000000</td>\n",
              "      <td>0.0</td>\n",
              "      <td>0.000000</td>\n",
              "      <td>0.000000</td>\n",
              "      <td>0.0</td>\n",
              "      <td>0.0</td>\n",
              "      <td>0.0</td>\n",
              "      <td>0.0</td>\n",
              "      <td>0.0</td>\n",
              "      <td>0.0</td>\n",
              "      <td>0.0</td>\n",
              "      <td>0.0</td>\n",
              "      <td>0.000000</td>\n",
              "      <td>0.0</td>\n",
              "      <td>0.0</td>\n",
              "      <td>0.000000</td>\n",
              "      <td>0.098039</td>\n",
              "      <td>0.733333</td>\n",
              "      <td>0.741176</td>\n",
              "      <td>0.000000</td>\n",
              "      <td>...</td>\n",
              "      <td>0.901961</td>\n",
              "      <td>0.929412</td>\n",
              "      <td>0.898039</td>\n",
              "      <td>0.000000</td>\n",
              "      <td>0.000000</td>\n",
              "      <td>0.003922</td>\n",
              "      <td>0.000000</td>\n",
              "      <td>0.000000</td>\n",
              "      <td>0.0</td>\n",
              "      <td>0.0</td>\n",
              "      <td>0.0</td>\n",
              "      <td>0.0</td>\n",
              "      <td>0.0</td>\n",
              "      <td>0.0</td>\n",
              "      <td>0.0</td>\n",
              "      <td>0.0</td>\n",
              "      <td>0.0</td>\n",
              "      <td>0.000000</td>\n",
              "      <td>0.000000</td>\n",
              "      <td>0.0</td>\n",
              "      <td>0.0</td>\n",
              "      <td>0.266667</td>\n",
              "      <td>0.454902</td>\n",
              "      <td>0.439216</td>\n",
              "      <td>0.533333</td>\n",
              "      <td>0.576471</td>\n",
              "      <td>0.564706</td>\n",
              "      <td>0.474510</td>\n",
              "      <td>0.400000</td>\n",
              "      <td>0.247059</td>\n",
              "      <td>0.000000</td>\n",
              "      <td>0.0</td>\n",
              "      <td>0.0</td>\n",
              "      <td>0.000000</td>\n",
              "      <td>0.000000</td>\n",
              "      <td>0.000000</td>\n",
              "      <td>0.0</td>\n",
              "      <td>0.0</td>\n",
              "      <td>0.0</td>\n",
              "      <td>0.0</td>\n",
              "    </tr>\n",
              "  </tbody>\n",
              "</table>\n",
              "<p>5 rows × 784 columns</p>\n",
              "</div>"
            ],
            "text/plain": [
              "   pixel1  pixel2  pixel3    pixel4  ...  pixel781  pixel782  pixel783  pixel784\n",
              "0     0.0     0.0     0.0  0.000000  ...       0.0       0.0       0.0       0.0\n",
              "1     0.0     0.0     0.0  0.000000  ...       0.0       0.0       0.0       0.0\n",
              "2     0.0     0.0     0.0  0.000000  ...       0.0       0.0       0.0       0.0\n",
              "3     0.0     0.0     0.0  0.003922  ...       0.0       0.0       0.0       0.0\n",
              "4     0.0     0.0     0.0  0.000000  ...       0.0       0.0       0.0       0.0\n",
              "\n",
              "[5 rows x 784 columns]"
            ]
          },
          "metadata": {
            "tags": []
          },
          "execution_count": 9
        }
      ]
    },
    {
      "cell_type": "markdown",
      "metadata": {
        "id": "cpyhiurU-NCF",
        "colab_type": "text"
      },
      "source": [
        "## 2. Model specific data preparation"
      ]
    },
    {
      "cell_type": "markdown",
      "metadata": {
        "id": "Y4EsssDG-Thm",
        "colab_type": "text"
      },
      "source": [
        "### a) Load the data"
      ]
    },
    {
      "cell_type": "code",
      "metadata": {
        "id": "9-iAvHGtwFuJ",
        "colab_type": "code",
        "colab": {}
      },
      "source": [
        "x_train_tf = tf.convert_to_tensor(train_images.values.reshape((-1, 28, 28, 1)))\n",
        "y_train_tf = tf.convert_to_tensor(train_labels.values)\n",
        "x_test_tf = tf.convert_to_tensor(test_images.values.reshape((-1, 28, 28, 1)))\n",
        "y_test_tf = tf.convert_to_tensor(test_labels.values)"
      ],
      "execution_count": null,
      "outputs": []
    },
    {
      "cell_type": "markdown",
      "metadata": {
        "id": "F8owQyL7-dqH",
        "colab_type": "text"
      },
      "source": [
        "### b) Tensor view of the data"
      ]
    },
    {
      "cell_type": "code",
      "metadata": {
        "id": "HylaxcVguc2Y",
        "colab_type": "code",
        "colab": {
          "base_uri": "https://localhost:8080/",
          "height": 34
        },
        "outputId": "9266b00b-2458-416a-d2de-f8e1c285920a"
      },
      "source": [
        "x_train_tf.shape"
      ],
      "execution_count": null,
      "outputs": [
        {
          "output_type": "execute_result",
          "data": {
            "text/plain": [
              "TensorShape([60000, 28, 28, 1])"
            ]
          },
          "metadata": {
            "tags": []
          },
          "execution_count": 11
        }
      ]
    },
    {
      "cell_type": "code",
      "metadata": {
        "id": "oW4r1M7fweWo",
        "colab_type": "code",
        "colab": {
          "base_uri": "https://localhost:8080/",
          "height": 521
        },
        "outputId": "1e5378ab-97d1-4d06-c290-3fdc122a3d85"
      },
      "source": [
        "x_train_tf[0][5]"
      ],
      "execution_count": null,
      "outputs": [
        {
          "output_type": "execute_result",
          "data": {
            "text/plain": [
              "<tf.Tensor: shape=(28, 1), dtype=float32, numpy=\n",
              "array([[0.        ],\n",
              "       [0.        ],\n",
              "       [0.        ],\n",
              "       [0.        ],\n",
              "       [0.        ],\n",
              "       [0.18431373],\n",
              "       [0.9882353 ],\n",
              "       [0.91764706],\n",
              "       [0.93333334],\n",
              "       [0.8784314 ],\n",
              "       [0.84313726],\n",
              "       [0.84313726],\n",
              "       [0.8980392 ],\n",
              "       [0.42352942],\n",
              "       [0.7058824 ],\n",
              "       [0.8117647 ],\n",
              "       [0.8392157 ],\n",
              "       [0.8784314 ],\n",
              "       [0.90588236],\n",
              "       [0.9764706 ],\n",
              "       [0.99607843],\n",
              "       [0.1764706 ],\n",
              "       [0.        ],\n",
              "       [0.        ],\n",
              "       [0.        ],\n",
              "       [0.        ],\n",
              "       [0.        ],\n",
              "       [0.        ]], dtype=float32)>"
            ]
          },
          "metadata": {
            "tags": []
          },
          "execution_count": 12
        }
      ]
    },
    {
      "cell_type": "code",
      "metadata": {
        "id": "WIDIonixweJt",
        "colab_type": "code",
        "colab": {
          "base_uri": "https://localhost:8080/",
          "height": 34
        },
        "outputId": "f58358dc-5c5e-4f21-9211-8f786fd257e4"
      },
      "source": [
        "y_train_tf[0]"
      ],
      "execution_count": null,
      "outputs": [
        {
          "output_type": "execute_result",
          "data": {
            "text/plain": [
              "<tf.Tensor: shape=(), dtype=int64, numpy=2>"
            ]
          },
          "metadata": {
            "tags": []
          },
          "execution_count": 13
        }
      ]
    },
    {
      "cell_type": "markdown",
      "metadata": {
        "id": "m9YOzlYG-ck5",
        "colab_type": "text"
      },
      "source": [
        "## 3. Model definition"
      ]
    },
    {
      "cell_type": "markdown",
      "metadata": {
        "id": "ytn83jHz-nP8",
        "colab_type": "text"
      },
      "source": [
        "### a) Sequentially add layers"
      ]
    },
    {
      "cell_type": "code",
      "metadata": {
        "id": "3_sfQE_NwnxE",
        "colab_type": "code",
        "colab": {}
      },
      "source": [
        "initializer_nn = tf.random_uniform_initializer(\n",
        "    minval=-1, maxval=1, seed=123)"
      ],
      "execution_count": null,
      "outputs": []
    },
    {
      "cell_type": "code",
      "metadata": {
        "id": "cDGgvHtSX28_",
        "colab_type": "code",
        "colab": {}
      },
      "source": [
        "model_tf = keras.Sequential([\n",
        "    keras.layers.Conv2D(input_shape=(28,28,1), filters=6, kernel_size=5, strides=1, padding=\"same\", activation='sigmoid'),\n",
        "    keras.layers.AveragePooling2D(pool_size=2, strides=2),\n",
        "    keras.layers.Conv2D(16, kernel_size=5, activation='sigmoid'),\n",
        "    keras.layers.AveragePooling2D(pool_size=2, strides=2),\n",
        "    keras.layers.Flatten(),\n",
        "    keras.layers.Dense(120, activation='sigmoid', kernel_initializer=initializer_nn),\n",
        "    keras.layers.Dense(84, activation='sigmoid', kernel_initializer=initializer_nn),\n",
        "    keras.layers.Dense(10, activation='softmax', kernel_initializer=initializer_nn)\n",
        "])"
      ],
      "execution_count": null,
      "outputs": []
    },
    {
      "cell_type": "markdown",
      "metadata": {
        "id": "RBSeEscN-tXC",
        "colab_type": "text"
      },
      "source": [
        "### b) Inspect the model"
      ]
    },
    {
      "cell_type": "code",
      "metadata": {
        "id": "zgbkZD8NE6Hi",
        "colab_type": "code",
        "colab": {
          "base_uri": "https://localhost:8080/",
          "height": 434
        },
        "outputId": "8cdb49ef-6e94-4652-e584-d8da836cde7c"
      },
      "source": [
        "model_tf.summary()"
      ],
      "execution_count": null,
      "outputs": [
        {
          "output_type": "stream",
          "text": [
            "Model: \"sequential\"\n",
            "_________________________________________________________________\n",
            "Layer (type)                 Output Shape              Param #   \n",
            "=================================================================\n",
            "conv2d (Conv2D)              (None, 28, 28, 6)         156       \n",
            "_________________________________________________________________\n",
            "average_pooling2d (AveragePo (None, 14, 14, 6)         0         \n",
            "_________________________________________________________________\n",
            "conv2d_1 (Conv2D)            (None, 10, 10, 16)        2416      \n",
            "_________________________________________________________________\n",
            "average_pooling2d_1 (Average (None, 5, 5, 16)          0         \n",
            "_________________________________________________________________\n",
            "flatten (Flatten)            (None, 400)               0         \n",
            "_________________________________________________________________\n",
            "dense (Dense)                (None, 120)               48120     \n",
            "_________________________________________________________________\n",
            "dense_1 (Dense)              (None, 84)                10164     \n",
            "_________________________________________________________________\n",
            "dense_2 (Dense)              (None, 10)                850       \n",
            "=================================================================\n",
            "Total params: 61,706\n",
            "Trainable params: 61,706\n",
            "Non-trainable params: 0\n",
            "_________________________________________________________________\n"
          ],
          "name": "stdout"
        }
      ]
    },
    {
      "cell_type": "markdown",
      "metadata": {
        "id": "KnHCVUvw-0XR",
        "colab_type": "text"
      },
      "source": [
        "### c) Inspect the first convolutional layer"
      ]
    },
    {
      "cell_type": "code",
      "metadata": {
        "id": "U2waeNN7a9kc",
        "colab_type": "code",
        "colab": {
          "base_uri": "https://localhost:8080/",
          "height": 260
        },
        "outputId": "33182ce4-5b20-475c-fbed-c9f5f72ecbe2"
      },
      "source": [
        "hidden1_tf_ante = model_tf.layers[0]\n",
        "weights_tf_ante, biases_tf_ante = hidden1_tf_ante.get_weights()\n",
        "weights_tf_ante[0]"
      ],
      "execution_count": null,
      "outputs": [
        {
          "output_type": "execute_result",
          "data": {
            "text/plain": [
              "array([[[-0.16073376,  0.03208217,  0.05344588, -0.16841346,\n",
              "          0.00511199, -0.12950547]],\n",
              "\n",
              "       [[ 0.17945959, -0.09147053,  0.14175595,  0.10636474,\n",
              "         -0.07896642, -0.16588624]],\n",
              "\n",
              "       [[ 0.1273757 , -0.0937277 , -0.17594701,  0.14852177,\n",
              "          0.04041021,  0.07712741]],\n",
              "\n",
              "       [[ 0.16992529,  0.15400575, -0.13764636,  0.11489804,\n",
              "          0.02582307,  0.08888899]],\n",
              "\n",
              "       [[ 0.10705356,  0.17838337,  0.10333325,  0.0035753 ,\n",
              "          0.09797095,  0.02050263]]], dtype=float32)"
            ]
          },
          "metadata": {
            "tags": []
          },
          "execution_count": 17
        }
      ]
    },
    {
      "cell_type": "code",
      "metadata": {
        "id": "8Hnpyc554392",
        "colab_type": "code",
        "colab": {
          "base_uri": "https://localhost:8080/",
          "height": 34
        },
        "outputId": "b21e4e71-4284-4e88-d095-8cb6b6d6a7f3"
      },
      "source": [
        "weights_tf_ante.shape"
      ],
      "execution_count": null,
      "outputs": [
        {
          "output_type": "execute_result",
          "data": {
            "text/plain": [
              "(5, 5, 1, 6)"
            ]
          },
          "metadata": {
            "tags": []
          },
          "execution_count": 18
        }
      ]
    },
    {
      "cell_type": "code",
      "metadata": {
        "id": "aDvKU-jdbpj-",
        "colab_type": "code",
        "colab": {
          "base_uri": "https://localhost:8080/",
          "height": 34
        },
        "outputId": "3a6dd335-e9d9-4f27-f45a-c62d2f972ca4"
      },
      "source": [
        "biases_tf_ante"
      ],
      "execution_count": null,
      "outputs": [
        {
          "output_type": "execute_result",
          "data": {
            "text/plain": [
              "array([0., 0., 0., 0., 0., 0.], dtype=float32)"
            ]
          },
          "metadata": {
            "tags": []
          },
          "execution_count": 19
        }
      ]
    },
    {
      "cell_type": "code",
      "metadata": {
        "id": "-zAIOiEiBEcP",
        "colab_type": "code",
        "colab": {
          "base_uri": "https://localhost:8080/",
          "height": 34
        },
        "outputId": "8ea84fba-2254-46dc-c360-eb616b3c7464"
      },
      "source": [
        "biases_tf_ante.shape"
      ],
      "execution_count": null,
      "outputs": [
        {
          "output_type": "execute_result",
          "data": {
            "text/plain": [
              "(6,)"
            ]
          },
          "metadata": {
            "tags": []
          },
          "execution_count": 20
        }
      ]
    },
    {
      "cell_type": "markdown",
      "metadata": {
        "id": "Ow8SrWp5_GzL",
        "colab_type": "text"
      },
      "source": [
        "## 4. Loss & Optimizer"
      ]
    },
    {
      "cell_type": "code",
      "metadata": {
        "id": "2XnclAKMDWwh",
        "colab_type": "code",
        "colab": {}
      },
      "source": [
        "loss_fn_tf = tf.keras.losses.SparseCategoricalCrossentropy()\n",
        "optimizer_tf = tf.keras.optimizers.Adam()\n",
        "\n",
        "test_loss = tf.keras.metrics.Mean(name='test_loss')\n",
        "\n",
        "train_accuracy = tf.keras.metrics.SparseCategoricalAccuracy(name='train_accuracy')\n",
        "test_accuracy = tf.keras.metrics.SparseCategoricalAccuracy(name='test_accuracy')"
      ],
      "execution_count": null,
      "outputs": []
    },
    {
      "cell_type": "markdown",
      "metadata": {
        "id": "EDHau6DW_MPn",
        "colab_type": "text"
      },
      "source": [
        "## 5. Training"
      ]
    },
    {
      "cell_type": "markdown",
      "metadata": {
        "id": "j9zWBPNR_RfS",
        "colab_type": "text"
      },
      "source": [
        "### a) Training loop"
      ]
    },
    {
      "cell_type": "code",
      "metadata": {
        "id": "xgZ0GBXg46RT",
        "colab_type": "code",
        "colab": {}
      },
      "source": [
        "def train_step_tf(model, optimizer, loss_fn, batch_size = 10):\n",
        "  losses = []\n",
        "  for beg_i in range(0, x_train_tf.shape[0], batch_size):\n",
        "    x_train_batch_tf = x_train_tf[beg_i:beg_i + batch_size]\n",
        "    y_train_batch_tf = y_train_tf[beg_i:beg_i + batch_size]\n",
        "\n",
        "    with tf.GradientTape() as tape:\n",
        "      y_pred_tf = model(x_train_batch_tf, training=True)\n",
        "      loss = loss_fn(y_train_batch_tf, y_pred_tf)\n",
        "\n",
        "    grads = tape.gradient(loss, model.trainable_weights)\n",
        "\n",
        "    optimizer.apply_gradients(zip(grads, model.trainable_weights))\n",
        "    \n",
        "    losses.append(loss)\n",
        "    train_accuracy.update_state(y_train_batch_tf, y_pred_tf)\n",
        "  return losses"
      ],
      "execution_count": null,
      "outputs": []
    },
    {
      "cell_type": "code",
      "metadata": {
        "id": "etJsxO8Bw4MS",
        "colab_type": "code",
        "colab": {}
      },
      "source": [
        "def test_step_tf(model, optimizer, loss_fn, batch_size = 10):\n",
        "  for beg_i in range(0, x_train_tf.shape[0], batch_size):\n",
        "    x_test_batch_tf = x_train_tf[beg_i:beg_i + batch_size]\n",
        "    y_test_batch_tf = y_train_tf[beg_i:beg_i + batch_size]\n",
        "    y_pred_tf = model(x_test_batch_tf, training=False)\n",
        "    loss = loss_fn(y_test_batch_tf, y_pred_tf)\n",
        "    test_loss.update_state(loss)\n",
        "    test_accuracy.update_state(y_test_batch_tf, y_pred_tf)"
      ],
      "execution_count": null,
      "outputs": []
    },
    {
      "cell_type": "code",
      "metadata": {
        "id": "OEe_aBKZNn5e",
        "colab_type": "code",
        "colab": {
          "base_uri": "https://localhost:8080/",
          "height": 451
        },
        "outputId": "86f0adb7-84a6-4769-d032-55457d070e2c"
      },
      "source": [
        "train_loss_tf = []\n",
        "test_loss_tf = []\n",
        "\n",
        "train_acc_tf = []\n",
        "test_acc_tf = []\n",
        "\n",
        "epochs = 25\n",
        "\n",
        "for epoch in range(epochs):\n",
        "  loss = train_step_tf(model_tf, optimizer_tf, loss_fn_tf)\n",
        "  mean_loss_tf = float(tf.reduce_mean(loss))\n",
        "  train_loss_tf.append(mean_loss_tf)\n",
        "  train_acc_tf.append(train_accuracy.result()*100)\n",
        "\n",
        "  test_step_tf(model_tf, optimizer_tf, loss_fn_tf)\n",
        "\n",
        "  template = (\"Epoch {}, Loss: {}, Accuracy: {}, Test Loss: {}, Test Accuracy: {}\")\n",
        "  print(template.format(epoch+1, mean_loss_tf, train_accuracy.result()*100, test_loss.result(), test_accuracy.result()*100))\n",
        "  \n",
        "  test_loss_tf.append(test_loss.result())\n",
        "  test_acc_tf.append(test_accuracy.result()*100)\n",
        "\n",
        "  test_loss.reset_states()\n",
        "  train_accuracy.reset_states()\n",
        "  test_accuracy.reset_states()"
      ],
      "execution_count": null,
      "outputs": [
        {
          "output_type": "stream",
          "text": [
            "Epoch 1, Loss: 0.7099212408065796, Accuracy: 73.12667083740234, Test Loss: 0.4950437843799591, Test Accuracy: 81.00666046142578\n",
            "Epoch 2, Loss: 0.4586751163005829, Accuracy: 82.74833679199219, Test Loss: 0.4046212136745453, Test Accuracy: 85.16667175292969\n",
            "Epoch 3, Loss: 0.3970807194709778, Accuracy: 85.16500091552734, Test Loss: 0.368003785610199, Test Accuracy: 86.42832946777344\n",
            "Epoch 4, Loss: 0.3620176911354065, Accuracy: 86.47500610351562, Test Loss: 0.34288081526756287, Test Accuracy: 87.4000015258789\n",
            "Epoch 5, Loss: 0.33772268891334534, Accuracy: 87.42333221435547, Test Loss: 0.3203188180923462, Test Accuracy: 88.20166778564453\n",
            "Epoch 6, Loss: 0.3182201683521271, Accuracy: 88.07499694824219, Test Loss: 0.30173423886299133, Test Accuracy: 88.83833312988281\n",
            "Epoch 7, Loss: 0.3013189733028412, Accuracy: 88.65833282470703, Test Loss: 0.2873189151287079, Test Accuracy: 89.28166961669922\n",
            "Epoch 8, Loss: 0.2863866686820984, Accuracy: 89.24000549316406, Test Loss: 0.2756732106208801, Test Accuracy: 89.72166442871094\n",
            "Epoch 9, Loss: 0.27330008149147034, Accuracy: 89.69166564941406, Test Loss: 0.2665475606918335, Test Accuracy: 89.98833465576172\n",
            "Epoch 10, Loss: 0.26164162158966064, Accuracy: 90.11166381835938, Test Loss: 0.2595043480396271, Test Accuracy: 90.20833587646484\n",
            "Epoch 11, Loss: 0.25111597776412964, Accuracy: 90.57499694824219, Test Loss: 0.253123015165329, Test Accuracy: 90.3566665649414\n",
            "Epoch 12, Loss: 0.2413453906774521, Accuracy: 90.94667053222656, Test Loss: 0.2477538287639618, Test Accuracy: 90.50166320800781\n",
            "Epoch 13, Loss: 0.23207643628120422, Accuracy: 91.36499786376953, Test Loss: 0.24363462626934052, Test Accuracy: 90.63833618164062\n",
            "Epoch 14, Loss: 0.22327017784118652, Accuracy: 91.7316665649414, Test Loss: 0.23988476395606995, Test Accuracy: 90.82333374023438\n",
            "Epoch 15, Loss: 0.214882493019104, Accuracy: 92.01166534423828, Test Loss: 0.23514670133590698, Test Accuracy: 91.02166748046875\n",
            "Epoch 16, Loss: 0.2068093717098236, Accuracy: 92.35333251953125, Test Loss: 0.22988982498645782, Test Accuracy: 91.22166442871094\n",
            "Epoch 17, Loss: 0.19902408123016357, Accuracy: 92.65499877929688, Test Loss: 0.22520501911640167, Test Accuracy: 91.45833587646484\n",
            "Epoch 18, Loss: 0.19161947071552277, Accuracy: 92.9816665649414, Test Loss: 0.22101978957653046, Test Accuracy: 91.67333221435547\n",
            "Epoch 19, Loss: 0.18449468910694122, Accuracy: 93.2316665649414, Test Loss: 0.2175169140100479, Test Accuracy: 91.8116683959961\n",
            "Epoch 20, Loss: 0.17765581607818604, Accuracy: 93.5250015258789, Test Loss: 0.21504975855350494, Test Accuracy: 91.89666748046875\n",
            "Epoch 21, Loss: 0.17110560834407806, Accuracy: 93.76333618164062, Test Loss: 0.2135072499513626, Test Accuracy: 91.93000030517578\n",
            "Epoch 22, Loss: 0.16483347117900848, Accuracy: 94.038330078125, Test Loss: 0.21179209649562836, Test Accuracy: 91.98500061035156\n",
            "Epoch 23, Loss: 0.15877178311347961, Accuracy: 94.30000305175781, Test Loss: 0.20939774811267853, Test Accuracy: 92.13500213623047\n",
            "Epoch 24, Loss: 0.15282626450061798, Accuracy: 94.53333282470703, Test Loss: 0.20685070753097534, Test Accuracy: 92.2366714477539\n",
            "Epoch 25, Loss: 0.14705485105514526, Accuracy: 94.77333068847656, Test Loss: 0.20490439236164093, Test Accuracy: 92.3550033569336\n"
          ],
          "name": "stdout"
        }
      ]
    },
    {
      "cell_type": "markdown",
      "metadata": {
        "id": "Ps8QHc63_qfg",
        "colab_type": "text"
      },
      "source": [
        "### b) Training progress"
      ]
    },
    {
      "cell_type": "code",
      "metadata": {
        "id": "Vnr-LxZBnc26",
        "colab_type": "code",
        "colab": {
          "base_uri": "https://localhost:8080/",
          "height": 621
        },
        "outputId": "2d91d761-3f13-4b1c-c854-b87214b5a67b"
      },
      "source": [
        "plt.figure(figsize=(16,10))\n",
        "plt.plot(train_acc_tf)\n",
        "plt.plot(test_acc_tf)\n",
        "plt.title('model accuracy')\n",
        "plt.ylabel('accuracy')\n",
        "plt.xlabel('epoch')\n",
        "plt.legend(['train', 'test'], loc='upper left')\n",
        "plt.show()"
      ],
      "execution_count": null,
      "outputs": [
        {
          "output_type": "display_data",
          "data": {
            "image/png": "[encoded data removed]",
            "text/plain": [
              "<Figure size 1152x720 with 1 Axes>"
            ]
          },
          "metadata": {
            "tags": [],
            "needs_background": "light"
          }
        }
      ]
    },
    {
      "cell_type": "code",
      "metadata": {
        "id": "OT_mQn9g7jjU",
        "colab_type": "code",
        "colab": {
          "base_uri": "https://localhost:8080/",
          "height": 621
        },
        "outputId": "3baee788-d32c-474e-c2f3-5f276e9dae32"
      },
      "source": [
        "plt.figure(figsize=(16,10))\n",
        "plt.plot(train_loss_tf)\n",
        "plt.plot(test_loss_tf)\n",
        "plt.title('model loss')\n",
        "plt.ylabel('loss')\n",
        "plt.xlabel('epoch')\n",
        "plt.legend(['train', 'test'], loc='upper right')\n",
        "plt.show()"
      ],
      "execution_count": null,
      "outputs": [
        {
          "output_type": "display_data",
          "data": {
            "image/png": "[encoded data removed]",
            "text/plain": [
              "<Figure size 1152x720 with 1 Axes>"
            ]
          },
          "metadata": {
            "tags": [],
            "needs_background": "light"
          }
        }
      ]
    },
    {
      "cell_type": "markdown",
      "metadata": {
        "id": "fauTTV80_34y",
        "colab_type": "text"
      },
      "source": [
        "### c) Inspect the first conv. layer after training"
      ]
    },
    {
      "cell_type": "code",
      "metadata": {
        "id": "JFGiGkhnGi_M",
        "colab_type": "code",
        "colab": {
          "base_uri": "https://localhost:8080/",
          "height": 260
        },
        "outputId": "a25addd1-06cc-42f1-c3f0-d161a1bd66ac"
      },
      "source": [
        "hidden1_tf_post = model_tf.layers[0]\n",
        "weights_tf_post, biases_tf_post = hidden1_tf_post.get_weights()\n",
        "weights_tf_post[0]"
      ],
      "execution_count": null,
      "outputs": [
        {
          "output_type": "execute_result",
          "data": {
            "text/plain": [
              "array([[[ 1.8557616e+00, -8.3092457e-01,  1.5087665e+00, -9.8559624e-01,\n",
              "          1.2945112e+00,  1.1212626e+00]],\n",
              "\n",
              "       [[-7.3368412e-01,  1.4803471e-01,  2.6863298e+00,  5.5886276e-02,\n",
              "         -3.5919750e-01,  5.1561779e-01]],\n",
              "\n",
              "       [[-1.4152484e+00,  9.5645702e-01,  2.0043008e+00,  8.6771822e-01,\n",
              "         -3.7848327e-01, -1.3174005e+00]],\n",
              "\n",
              "       [[-6.5326887e-01,  6.5662616e-01,  8.4960765e-01,  8.8056570e-01,\n",
              "          1.4414251e+00, -1.1903545e+00]],\n",
              "\n",
              "       [[-1.6198080e-03, -6.2909329e-01,  1.2418716e+00, -2.1147741e-02,\n",
              "          1.7122781e+00, -1.9335863e-01]]], dtype=float32)"
            ]
          },
          "metadata": {
            "tags": []
          },
          "execution_count": 42
        }
      ]
    },
    {
      "cell_type": "code",
      "metadata": {
        "id": "CQzHFz85G40Q",
        "colab_type": "code",
        "colab": {
          "base_uri": "https://localhost:8080/",
          "height": 52
        },
        "outputId": "5ff516f9-321c-43c8-e3be-214d9ff94123"
      },
      "source": [
        "biases_tf_post"
      ],
      "execution_count": null,
      "outputs": [
        {
          "output_type": "execute_result",
          "data": {
            "text/plain": [
              "array([-0.51025164, -1.6538384 , -0.21228085, -1.8112352 , -0.4792024 ,\n",
              "        1.2640122 ], dtype=float32)"
            ]
          },
          "metadata": {
            "tags": []
          },
          "execution_count": 43
        }
      ]
    },
    {
      "cell_type": "markdown",
      "metadata": {
        "id": "7zxy7PuBABMp",
        "colab_type": "text"
      },
      "source": [
        "## 6. Evaluation"
      ]
    },
    {
      "cell_type": "code",
      "metadata": {
        "id": "lUg3t4FpswJa",
        "colab_type": "code",
        "colab": {}
      },
      "source": [
        "outputs = np.argmax(model_tf(x_test_tf),1)\n",
        "correct = np.sum(outputs == np.array(y_test_tf))\n",
        "print('Test Accuracy of the model on the 10000 test images: %.4f %%' % ((correct / len(x_test_tf))*100))"
      ],
      "execution_count": null,
      "outputs": []
    }
  ]
}